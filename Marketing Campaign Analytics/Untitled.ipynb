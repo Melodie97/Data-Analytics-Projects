{
 "cells": [
  {
   "cell_type": "markdown",
   "id": "53063b80",
   "metadata": {},
   "source": [
    "### Marketing Campaign Results Analytics\n",
    "\n",
    "Freedom Debt Relief’s customers are people who have a substantial amount of debt and because of an unexpected hardship, are no longer able to make their minimum monthly payments. Upon enrolling in Freedom’s Debt Relief program, customers cease making payments to their creditors and instead make deposits they can afford into a new dedicated bank account with Freedom. Freedom uses these funds to negotiate with each of the client’s creditors to settle the debt, typically at only a fraction of what was originally owed. Once a settlement has been agreed upon for an individual account, Freedom facilitates payments from the dedicated bank account to the creditor based on the terms of the settlement agreement. Freedom then collects fees from the client for the individual account that was settled. Freedom earns fees for each account it successfully negotiates a settlement agreement. The number of settlement agreements Freedom can negotiate is proportional to the monthly deposited amount. Assume industry statistics for any analysis input that you would want to use that is not provided here, including but not limited to fee percentage Freedom would collect along with ongoing cost per client between initial enrollment and program graduation.\n",
    "\n",
    "**Assignment**\n",
    "Imagine that Freedom ran a recent marketing campaign to promote the value proposition of how the debt relief program helps people achieve financial freedom. Assume the cost of this campaign was $5 million. There are five months of data in the datasets provided. Let’s say campaign took place over the course of the third month. You now want to show the marketing, sales and operations teams just how successful this campaign was.\n",
    "\n",
    "Using the three datasets given:\n",
    "\n",
    "Provide a quantitative assessment of whether the marketing campaign was successful. How and why did you choose your specific success metric(s)?\n",
    "Based on the provided data, how would you recommend campaign strategy be adjusted in the future to improve performance?\n",
    "How do you think campaign performance would have changed if we did not run the campaign in Month 3, but instead postponed it until month 6? Provide an incremental number versus your result in Question #1.\n",
    "Data Description\n",
    "Attached you will find three files with the data you will need to complete the analysis.\n",
    "\n",
    "`client_data.csv`: You will find data specific to fictional clients <br>\n",
    "`client_id`: Randomly generated unique surrogate identifier for a client <br>\n",
    "`client_geographical_region`: Client geographical location in relation to U.S. Census definitions <br>\n",
    "`client_residence_status`: Client residence status in relation to whether they rent or own <br>\n",
    "`client_age`: Client age in relation to date of birth <br>\n",
    "\n",
    "`deposit_data.csv`: You will find data specific to the client deposit behavior <br>\n",
    "`client_id`: Randomly generated unique surrogate identifier for a client <br>\n",
    "`deposit_type`: Delineates whether a client deposit is the scheduled record or actual record <br>\n",
    "`deposit_amount`: Client deposit amount to the dedicated bank account with Freedom <br>\n",
    "`deposit_cadence`: Timing and pattern of client deposit activity <br>\n",
    "`deposit_date`: Deposit date for deposit type <br>\n",
    "\n",
    "`calendar_data.csv`: This is a calendar reference table <br>\n",
    "`gregorian_date`: This date aligns with the Gregorian calendar <br>\n",
    "`month_name`: These are the designated months in the case study <br>\n",
    "Month 1 and 2 are pre-campaign <br>\n",
    "Month 3 is the campaign <br>\n",
    "Month 4 and 5 are post-campaign \n",
    "\n",
    "**Note:** These datasets were created for this analytical exercise and are only intended to be used to assess the critical thinking and technical abilities of interview candidates. This data purposely does not reflect actual client or deposit information. No inferences should be made from this information in regard to Freedom’s client base, deposit activity, company size or company growth trajectory.\n",
    "\n",
    "**Practicalities**\n",
    "\n",
    "You are free to use any tool or means you would like to highlight your abilities, but we would like to see something more advanced than Excel pivot tables, for example. Not only your ability to provide the correct results is important, but also how you decide to visualize and explain your results.\n",
    "\n",
    "**Assume the following:**\n",
    "\n",
    "There is no seasonality in the results, and the campaign spend was distributed evenly across Month 3 (i.e., spend on the first day is the same as spend on the last day).\n",
    "Channel mix, targeting, and efficiency are outside the scope of this exercise, but you may address it after answering the 3 questions.\n",
    "There may be data provided that is not useful in your analysis."
   ]
  },
  {
   "cell_type": "code",
   "execution_count": 1,
   "id": "4c544de8",
   "metadata": {},
   "outputs": [],
   "source": [
    "import pandas\n",
    "import numpy\n",
    "import matplotlib.pyplot as plt\n",
    "import seaborn as sns\n",
    "%matplotlib inline"
   ]
  },
  {
   "cell_type": "code",
   "execution_count": null,
   "id": "083311b7",
   "metadata": {},
   "outputs": [],
   "source": [
    "plt.rcParams[\"figure.figsize\"] = (10, 7)"
   ]
  }
 ],
 "metadata": {
  "kernelspec": {
   "display_name": "Python 3 (ipykernel)",
   "language": "python",
   "name": "python3"
  },
  "language_info": {
   "codemirror_mode": {
    "name": "ipython",
    "version": 3
   },
   "file_extension": ".py",
   "mimetype": "text/x-python",
   "name": "python",
   "nbconvert_exporter": "python",
   "pygments_lexer": "ipython3",
   "version": "3.11.5"
  }
 },
 "nbformat": 4,
 "nbformat_minor": 5
}
