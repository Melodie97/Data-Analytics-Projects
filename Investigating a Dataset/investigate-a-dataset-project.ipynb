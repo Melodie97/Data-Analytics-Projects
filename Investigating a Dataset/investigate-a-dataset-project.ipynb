{
 "cells": [
  {
   "cell_type": "markdown",
   "metadata": {},
   "source": [
    "# Project: Analyzing Medical Appointment No Shows\n",
    "\n",
    "## Table of Contents\n",
    "<ul>\n",
    "<li><a href=\"#intro\">Introduction</a></li>\n",
    "<li><a href=\"#wrangling\">Data Wrangling</a></li>\n",
    "<li><a href=\"#eda\">Exploratory Data Analysis</a></li>\n",
    "<li><a href=\"#conclusions\">Conclusions</a></li>\n",
    "</ul>"
   ]
  },
  {
   "cell_type": "markdown",
   "metadata": {},
   "source": [
    "<a id='intro'></a>\n",
    "## Introduction\n",
    "\n",
    "> This dataset contains information about patients who scheduled for a medical appointment, and some didn't show up for their appointment. The dependent variable I'll be basing my analysis on is whether a patient showed up for the appointment. The No-show column says ‘No’ if the patient showed up to their appointment, and ‘Yes’ if they did not show up.\n",
    ">\n",
    "> Some of the questions I would like to answer with this dataset are:\n",
    "> - what factors can help determine if a patient will show up for their scheduled appointment\n",
    "> - Are there any correlations between the other features?\n",
    ">\n",
    "> The findings of this analysis are tentative and do not imply causation"
   ]
  },
  {
   "cell_type": "code",
   "execution_count": 1,
   "metadata": {},
   "outputs": [],
   "source": [
    "import pandas as pd\n",
    "import numpy as np\n",
    "import matplotlib.pyplot as plt\n",
    "import seaborn as sns\n",
    "%matplotlib inline "
   ]
  },
  {
   "cell_type": "markdown",
   "metadata": {},
   "source": [
    "<a id='wrangling'></a>\n",
    "## Data Wrangling\n",
    "\n",
    "### General Properties"
   ]
  },
  {
   "cell_type": "code",
   "execution_count": 2,
   "metadata": {
    "scrolled": false
   },
   "outputs": [
    {
     "data": {
      "text/html": [
       "<div>\n",
       "<style scoped>\n",
       "    .dataframe tbody tr th:only-of-type {\n",
       "        vertical-align: middle;\n",
       "    }\n",
       "\n",
       "    .dataframe tbody tr th {\n",
       "        vertical-align: top;\n",
       "    }\n",
       "\n",
       "    .dataframe thead th {\n",
       "        text-align: right;\n",
       "    }\n",
       "</style>\n",
       "<table border=\"1\" class=\"dataframe\">\n",
       "  <thead>\n",
       "    <tr style=\"text-align: right;\">\n",
       "      <th></th>\n",
       "      <th>PatientId</th>\n",
       "      <th>AppointmentID</th>\n",
       "      <th>Gender</th>\n",
       "      <th>ScheduledDay</th>\n",
       "      <th>AppointmentDay</th>\n",
       "      <th>Age</th>\n",
       "      <th>Neighbourhood</th>\n",
       "      <th>Scholarship</th>\n",
       "      <th>Hipertension</th>\n",
       "      <th>Diabetes</th>\n",
       "      <th>Alcoholism</th>\n",
       "      <th>Handcap</th>\n",
       "      <th>SMS_received</th>\n",
       "      <th>No-show</th>\n",
       "    </tr>\n",
       "  </thead>\n",
       "  <tbody>\n",
       "    <tr>\n",
       "      <th>0</th>\n",
       "      <td>2.987250e+13</td>\n",
       "      <td>5642903</td>\n",
       "      <td>F</td>\n",
       "      <td>2016-04-29T18:38:08Z</td>\n",
       "      <td>2016-04-29T00:00:00Z</td>\n",
       "      <td>62</td>\n",
       "      <td>JARDIM DA PENHA</td>\n",
       "      <td>0</td>\n",
       "      <td>1</td>\n",
       "      <td>0</td>\n",
       "      <td>0</td>\n",
       "      <td>0</td>\n",
       "      <td>0</td>\n",
       "      <td>No</td>\n",
       "    </tr>\n",
       "    <tr>\n",
       "      <th>1</th>\n",
       "      <td>5.589978e+14</td>\n",
       "      <td>5642503</td>\n",
       "      <td>M</td>\n",
       "      <td>2016-04-29T16:08:27Z</td>\n",
       "      <td>2016-04-29T00:00:00Z</td>\n",
       "      <td>56</td>\n",
       "      <td>JARDIM DA PENHA</td>\n",
       "      <td>0</td>\n",
       "      <td>0</td>\n",
       "      <td>0</td>\n",
       "      <td>0</td>\n",
       "      <td>0</td>\n",
       "      <td>0</td>\n",
       "      <td>No</td>\n",
       "    </tr>\n",
       "    <tr>\n",
       "      <th>2</th>\n",
       "      <td>4.262962e+12</td>\n",
       "      <td>5642549</td>\n",
       "      <td>F</td>\n",
       "      <td>2016-04-29T16:19:04Z</td>\n",
       "      <td>2016-04-29T00:00:00Z</td>\n",
       "      <td>62</td>\n",
       "      <td>MATA DA PRAIA</td>\n",
       "      <td>0</td>\n",
       "      <td>0</td>\n",
       "      <td>0</td>\n",
       "      <td>0</td>\n",
       "      <td>0</td>\n",
       "      <td>0</td>\n",
       "      <td>No</td>\n",
       "    </tr>\n",
       "    <tr>\n",
       "      <th>3</th>\n",
       "      <td>8.679512e+11</td>\n",
       "      <td>5642828</td>\n",
       "      <td>F</td>\n",
       "      <td>2016-04-29T17:29:31Z</td>\n",
       "      <td>2016-04-29T00:00:00Z</td>\n",
       "      <td>8</td>\n",
       "      <td>PONTAL DE CAMBURI</td>\n",
       "      <td>0</td>\n",
       "      <td>0</td>\n",
       "      <td>0</td>\n",
       "      <td>0</td>\n",
       "      <td>0</td>\n",
       "      <td>0</td>\n",
       "      <td>No</td>\n",
       "    </tr>\n",
       "    <tr>\n",
       "      <th>4</th>\n",
       "      <td>8.841186e+12</td>\n",
       "      <td>5642494</td>\n",
       "      <td>F</td>\n",
       "      <td>2016-04-29T16:07:23Z</td>\n",
       "      <td>2016-04-29T00:00:00Z</td>\n",
       "      <td>56</td>\n",
       "      <td>JARDIM DA PENHA</td>\n",
       "      <td>0</td>\n",
       "      <td>1</td>\n",
       "      <td>1</td>\n",
       "      <td>0</td>\n",
       "      <td>0</td>\n",
       "      <td>0</td>\n",
       "      <td>No</td>\n",
       "    </tr>\n",
       "  </tbody>\n",
       "</table>\n",
       "</div>"
      ],
      "text/plain": [
       "      PatientId  AppointmentID Gender          ScheduledDay  \\\n",
       "0  2.987250e+13        5642903      F  2016-04-29T18:38:08Z   \n",
       "1  5.589978e+14        5642503      M  2016-04-29T16:08:27Z   \n",
       "2  4.262962e+12        5642549      F  2016-04-29T16:19:04Z   \n",
       "3  8.679512e+11        5642828      F  2016-04-29T17:29:31Z   \n",
       "4  8.841186e+12        5642494      F  2016-04-29T16:07:23Z   \n",
       "\n",
       "         AppointmentDay  Age      Neighbourhood  Scholarship  Hipertension  \\\n",
       "0  2016-04-29T00:00:00Z   62    JARDIM DA PENHA            0             1   \n",
       "1  2016-04-29T00:00:00Z   56    JARDIM DA PENHA            0             0   \n",
       "2  2016-04-29T00:00:00Z   62      MATA DA PRAIA            0             0   \n",
       "3  2016-04-29T00:00:00Z    8  PONTAL DE CAMBURI            0             0   \n",
       "4  2016-04-29T00:00:00Z   56    JARDIM DA PENHA            0             1   \n",
       "\n",
       "   Diabetes  Alcoholism  Handcap  SMS_received No-show  \n",
       "0         0           0        0             0      No  \n",
       "1         0           0        0             0      No  \n",
       "2         0           0        0             0      No  \n",
       "3         0           0        0             0      No  \n",
       "4         1           0        0             0      No  "
      ]
     },
     "execution_count": 2,
     "metadata": {},
     "output_type": "execute_result"
    }
   ],
   "source": [
    "# Loading the data and printing out a few lines.\n",
    "data = pd.read_csv('noshowappointments-kagglev2-may-2016.csv')\n",
    "data.head()"
   ]
  },
  {
   "cell_type": "code",
   "execution_count": 3,
   "metadata": {},
   "outputs": [
    {
     "data": {
      "text/plain": [
       "(110527, 14)"
      ]
     },
     "execution_count": 3,
     "metadata": {},
     "output_type": "execute_result"
    }
   ],
   "source": [
    "data.shape"
   ]
  },
  {
   "cell_type": "markdown",
   "metadata": {},
   "source": [
    "We can see the data has 110527 records of patient appointments and 14 features."
   ]
  },
  {
   "cell_type": "code",
   "execution_count": 4,
   "metadata": {},
   "outputs": [
    {
     "data": {
      "text/plain": [
       "Index(['PatientId', 'AppointmentID', 'Gender', 'ScheduledDay',\n",
       "       'AppointmentDay', 'Age', 'Neighbourhood', 'Scholarship', 'Hipertension',\n",
       "       'Diabetes', 'Alcoholism', 'Handcap', 'SMS_received', 'No-show'],\n",
       "      dtype='object')"
      ]
     },
     "execution_count": 4,
     "metadata": {},
     "output_type": "execute_result"
    }
   ],
   "source": [
    "data.columns"
   ]
  },
  {
   "cell_type": "markdown",
   "metadata": {},
   "source": [
    "Some of the columns aren't spelled correctly e.g Hipertension, Handcap, so we'll fix that"
   ]
  },
  {
   "cell_type": "code",
   "execution_count": 5,
   "metadata": {},
   "outputs": [
    {
     "data": {
      "text/plain": [
       "PatientId          62299\n",
       "AppointmentID     110527\n",
       "Gender                 2\n",
       "ScheduledDay      103549\n",
       "AppointmentDay        27\n",
       "Age                  104\n",
       "Neighbourhood         81\n",
       "Scholarship            2\n",
       "Hipertension           2\n",
       "Diabetes               2\n",
       "Alcoholism             2\n",
       "Handcap                5\n",
       "SMS_received           2\n",
       "No-show                2\n",
       "dtype: int64"
      ]
     },
     "execution_count": 5,
     "metadata": {},
     "output_type": "execute_result"
    }
   ],
   "source": [
    "data.nunique()"
   ]
  },
  {
   "cell_type": "markdown",
   "metadata": {},
   "source": [
    "We see that of the 110527 records of patient appointments, we have 62299 unique patients. Meaning that some patients have made multiple appointments. We can also see the number of unique values for each feature."
   ]
  },
  {
   "cell_type": "code",
   "execution_count": 6,
   "metadata": {},
   "outputs": [
    {
     "name": "stdout",
     "output_type": "stream",
     "text": [
      "<class 'pandas.core.frame.DataFrame'>\n",
      "RangeIndex: 110527 entries, 0 to 110526\n",
      "Data columns (total 14 columns):\n",
      " #   Column          Non-Null Count   Dtype  \n",
      "---  ------          --------------   -----  \n",
      " 0   PatientId       110527 non-null  float64\n",
      " 1   AppointmentID   110527 non-null  int64  \n",
      " 2   Gender          110527 non-null  object \n",
      " 3   ScheduledDay    110527 non-null  object \n",
      " 4   AppointmentDay  110527 non-null  object \n",
      " 5   Age             110527 non-null  int64  \n",
      " 6   Neighbourhood   110527 non-null  object \n",
      " 7   Scholarship     110527 non-null  int64  \n",
      " 8   Hipertension    110527 non-null  int64  \n",
      " 9   Diabetes        110527 non-null  int64  \n",
      " 10  Alcoholism      110527 non-null  int64  \n",
      " 11  Handcap         110527 non-null  int64  \n",
      " 12  SMS_received    110527 non-null  int64  \n",
      " 13  No-show         110527 non-null  object \n",
      "dtypes: float64(1), int64(8), object(5)\n",
      "memory usage: 11.8+ MB\n"
     ]
    }
   ],
   "source": [
    "data.info()"
   ]
  },
  {
   "cell_type": "markdown",
   "metadata": {},
   "source": [
    "We can see that the data has no null values and we can also see the different datatypes of the features."
   ]
  },
  {
   "cell_type": "code",
   "execution_count": 7,
   "metadata": {},
   "outputs": [
    {
     "data": {
      "text/plain": [
       "0"
      ]
     },
     "execution_count": 7,
     "metadata": {},
     "output_type": "execute_result"
    }
   ],
   "source": [
    "#checking if data has duplicates\n",
    "data.duplicated().sum()"
   ]
  },
  {
   "cell_type": "markdown",
   "metadata": {},
   "source": [
    "We have confirmed that the data has no duplicates."
   ]
  },
  {
   "cell_type": "code",
   "execution_count": 8,
   "metadata": {
    "scrolled": true
   },
   "outputs": [
    {
     "data": {
      "text/html": [
       "<div>\n",
       "<style scoped>\n",
       "    .dataframe tbody tr th:only-of-type {\n",
       "        vertical-align: middle;\n",
       "    }\n",
       "\n",
       "    .dataframe tbody tr th {\n",
       "        vertical-align: top;\n",
       "    }\n",
       "\n",
       "    .dataframe thead th {\n",
       "        text-align: right;\n",
       "    }\n",
       "</style>\n",
       "<table border=\"1\" class=\"dataframe\">\n",
       "  <thead>\n",
       "    <tr style=\"text-align: right;\">\n",
       "      <th></th>\n",
       "      <th>PatientId</th>\n",
       "      <th>AppointmentID</th>\n",
       "      <th>Age</th>\n",
       "      <th>Scholarship</th>\n",
       "      <th>Hipertension</th>\n",
       "      <th>Diabetes</th>\n",
       "      <th>Alcoholism</th>\n",
       "      <th>Handcap</th>\n",
       "      <th>SMS_received</th>\n",
       "    </tr>\n",
       "  </thead>\n",
       "  <tbody>\n",
       "    <tr>\n",
       "      <th>count</th>\n",
       "      <td>1.105270e+05</td>\n",
       "      <td>1.105270e+05</td>\n",
       "      <td>110527.000000</td>\n",
       "      <td>110527.000000</td>\n",
       "      <td>110527.000000</td>\n",
       "      <td>110527.000000</td>\n",
       "      <td>110527.000000</td>\n",
       "      <td>110527.000000</td>\n",
       "      <td>110527.000000</td>\n",
       "    </tr>\n",
       "    <tr>\n",
       "      <th>mean</th>\n",
       "      <td>1.474963e+14</td>\n",
       "      <td>5.675305e+06</td>\n",
       "      <td>37.088874</td>\n",
       "      <td>0.098266</td>\n",
       "      <td>0.197246</td>\n",
       "      <td>0.071865</td>\n",
       "      <td>0.030400</td>\n",
       "      <td>0.022248</td>\n",
       "      <td>0.321026</td>\n",
       "    </tr>\n",
       "    <tr>\n",
       "      <th>std</th>\n",
       "      <td>2.560949e+14</td>\n",
       "      <td>7.129575e+04</td>\n",
       "      <td>23.110205</td>\n",
       "      <td>0.297675</td>\n",
       "      <td>0.397921</td>\n",
       "      <td>0.258265</td>\n",
       "      <td>0.171686</td>\n",
       "      <td>0.161543</td>\n",
       "      <td>0.466873</td>\n",
       "    </tr>\n",
       "    <tr>\n",
       "      <th>min</th>\n",
       "      <td>3.921784e+04</td>\n",
       "      <td>5.030230e+06</td>\n",
       "      <td>-1.000000</td>\n",
       "      <td>0.000000</td>\n",
       "      <td>0.000000</td>\n",
       "      <td>0.000000</td>\n",
       "      <td>0.000000</td>\n",
       "      <td>0.000000</td>\n",
       "      <td>0.000000</td>\n",
       "    </tr>\n",
       "    <tr>\n",
       "      <th>25%</th>\n",
       "      <td>4.172614e+12</td>\n",
       "      <td>5.640286e+06</td>\n",
       "      <td>18.000000</td>\n",
       "      <td>0.000000</td>\n",
       "      <td>0.000000</td>\n",
       "      <td>0.000000</td>\n",
       "      <td>0.000000</td>\n",
       "      <td>0.000000</td>\n",
       "      <td>0.000000</td>\n",
       "    </tr>\n",
       "    <tr>\n",
       "      <th>50%</th>\n",
       "      <td>3.173184e+13</td>\n",
       "      <td>5.680573e+06</td>\n",
       "      <td>37.000000</td>\n",
       "      <td>0.000000</td>\n",
       "      <td>0.000000</td>\n",
       "      <td>0.000000</td>\n",
       "      <td>0.000000</td>\n",
       "      <td>0.000000</td>\n",
       "      <td>0.000000</td>\n",
       "    </tr>\n",
       "    <tr>\n",
       "      <th>75%</th>\n",
       "      <td>9.439172e+13</td>\n",
       "      <td>5.725524e+06</td>\n",
       "      <td>55.000000</td>\n",
       "      <td>0.000000</td>\n",
       "      <td>0.000000</td>\n",
       "      <td>0.000000</td>\n",
       "      <td>0.000000</td>\n",
       "      <td>0.000000</td>\n",
       "      <td>1.000000</td>\n",
       "    </tr>\n",
       "    <tr>\n",
       "      <th>max</th>\n",
       "      <td>9.999816e+14</td>\n",
       "      <td>5.790484e+06</td>\n",
       "      <td>115.000000</td>\n",
       "      <td>1.000000</td>\n",
       "      <td>1.000000</td>\n",
       "      <td>1.000000</td>\n",
       "      <td>1.000000</td>\n",
       "      <td>4.000000</td>\n",
       "      <td>1.000000</td>\n",
       "    </tr>\n",
       "  </tbody>\n",
       "</table>\n",
       "</div>"
      ],
      "text/plain": [
       "          PatientId  AppointmentID            Age    Scholarship  \\\n",
       "count  1.105270e+05   1.105270e+05  110527.000000  110527.000000   \n",
       "mean   1.474963e+14   5.675305e+06      37.088874       0.098266   \n",
       "std    2.560949e+14   7.129575e+04      23.110205       0.297675   \n",
       "min    3.921784e+04   5.030230e+06      -1.000000       0.000000   \n",
       "25%    4.172614e+12   5.640286e+06      18.000000       0.000000   \n",
       "50%    3.173184e+13   5.680573e+06      37.000000       0.000000   \n",
       "75%    9.439172e+13   5.725524e+06      55.000000       0.000000   \n",
       "max    9.999816e+14   5.790484e+06     115.000000       1.000000   \n",
       "\n",
       "        Hipertension       Diabetes     Alcoholism        Handcap  \\\n",
       "count  110527.000000  110527.000000  110527.000000  110527.000000   \n",
       "mean        0.197246       0.071865       0.030400       0.022248   \n",
       "std         0.397921       0.258265       0.171686       0.161543   \n",
       "min         0.000000       0.000000       0.000000       0.000000   \n",
       "25%         0.000000       0.000000       0.000000       0.000000   \n",
       "50%         0.000000       0.000000       0.000000       0.000000   \n",
       "75%         0.000000       0.000000       0.000000       0.000000   \n",
       "max         1.000000       1.000000       1.000000       4.000000   \n",
       "\n",
       "        SMS_received  \n",
       "count  110527.000000  \n",
       "mean        0.321026  \n",
       "std         0.466873  \n",
       "min         0.000000  \n",
       "25%         0.000000  \n",
       "50%         0.000000  \n",
       "75%         1.000000  \n",
       "max         1.000000  "
      ]
     },
     "execution_count": 8,
     "metadata": {},
     "output_type": "execute_result"
    }
   ],
   "source": [
    "#descriptive statistics of data\n",
    "data.describe()"
   ]
  },
  {
   "cell_type": "markdown",
   "metadata": {},
   "source": [
    "The mean age is 37, and 75% of patients in this dataset are within the age of 55 and below. We can also see some statistics of the other features, but we know most are categorical and not necessarily numerical."
   ]
  },
  {
   "cell_type": "code",
   "execution_count": 9,
   "metadata": {},
   "outputs": [
    {
     "data": {
      "text/plain": [
       " 0      3539\n",
       " 1      2273\n",
       " 52     1746\n",
       " 49     1652\n",
       " 53     1651\n",
       "        ... \n",
       " 115       5\n",
       " 100       4\n",
       " 102       2\n",
       " 99        1\n",
       "-1         1\n",
       "Name: Age, Length: 104, dtype: int64"
      ]
     },
     "execution_count": 9,
     "metadata": {},
     "output_type": "execute_result"
    }
   ],
   "source": [
    "#checking the values of some features\n",
    "data.Age.value_counts()"
   ]
  },
  {
   "cell_type": "markdown",
   "metadata": {},
   "source": [
    "There is an unlikely value for age, so we'll fix that later on"
   ]
  },
  {
   "cell_type": "code",
   "execution_count": 10,
   "metadata": {},
   "outputs": [
    {
     "data": {
      "text/plain": [
       "JARDIM CAMBURI                 7717\n",
       "MARIA ORTIZ                    5805\n",
       "RESISTÊNCIA                    4431\n",
       "JARDIM DA PENHA                3877\n",
       "ITARARÉ                        3514\n",
       "                               ... \n",
       "ILHA DO BOI                      35\n",
       "ILHA DO FRADE                    10\n",
       "AEROPORTO                         8\n",
       "ILHAS OCEÂNICAS DE TRINDADE       2\n",
       "PARQUE INDUSTRIAL                 1\n",
       "Name: Neighbourhood, Length: 81, dtype: int64"
      ]
     },
     "execution_count": 10,
     "metadata": {},
     "output_type": "execute_result"
    }
   ],
   "source": [
    "data.Neighbourhood.value_counts()"
   ]
  },
  {
   "cell_type": "markdown",
   "metadata": {},
   "source": [
    "Everything looks normal here"
   ]
  },
  {
   "cell_type": "code",
   "execution_count": 11,
   "metadata": {
    "scrolled": false
   },
   "outputs": [
    {
     "data": {
      "image/png": "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\n",
      "text/plain": [
       "<Figure size 1296x1008 with 9 Axes>"
      ]
     },
     "metadata": {
      "needs_background": "light"
     },
     "output_type": "display_data"
    }
   ],
   "source": [
    "#finding the distribution of the dataset\n",
    "data.hist(figsize=(18,14));"
   ]
  },
  {
   "cell_type": "markdown",
   "metadata": {},
   "source": [
    "We can see the distribution of all the features. \n",
    "- For most of the categorical features, we have more patients who fall into the 0 category(patients that showed up). So most of the distributions are skewed to the right.\n",
    "- The Age feature is skewed to the right, having more patients who are younger"
   ]
  },
  {
   "cell_type": "markdown",
   "metadata": {},
   "source": [
    "The data is mostly clean, there are no missing values or duplicates. So the things we'll need to fix in this data are some of the data types, the mistakes in the name of some columns, and the unlikely value for age. I would also like the encode the target variable for ease of analysis"
   ]
  },
  {
   "cell_type": "code",
   "execution_count": 12,
   "metadata": {},
   "outputs": [
    {
     "data": {
      "text/html": [
       "<div>\n",
       "<style scoped>\n",
       "    .dataframe tbody tr th:only-of-type {\n",
       "        vertical-align: middle;\n",
       "    }\n",
       "\n",
       "    .dataframe tbody tr th {\n",
       "        vertical-align: top;\n",
       "    }\n",
       "\n",
       "    .dataframe thead th {\n",
       "        text-align: right;\n",
       "    }\n",
       "</style>\n",
       "<table border=\"1\" class=\"dataframe\">\n",
       "  <thead>\n",
       "    <tr style=\"text-align: right;\">\n",
       "      <th></th>\n",
       "      <th>PatientId</th>\n",
       "      <th>AppointmentID</th>\n",
       "      <th>Gender</th>\n",
       "      <th>ScheduledDay</th>\n",
       "      <th>AppointmentDay</th>\n",
       "      <th>Age</th>\n",
       "      <th>Neighbourhood</th>\n",
       "      <th>Scholarship</th>\n",
       "      <th>Hipertension</th>\n",
       "      <th>Diabetes</th>\n",
       "      <th>Alcoholism</th>\n",
       "      <th>Handcap</th>\n",
       "      <th>SMS_received</th>\n",
       "      <th>No-show</th>\n",
       "    </tr>\n",
       "  </thead>\n",
       "  <tbody>\n",
       "    <tr>\n",
       "      <th>0</th>\n",
       "      <td>2.987250e+13</td>\n",
       "      <td>5642903</td>\n",
       "      <td>F</td>\n",
       "      <td>2016-04-29T18:38:08Z</td>\n",
       "      <td>2016-04-29T00:00:00Z</td>\n",
       "      <td>62</td>\n",
       "      <td>JARDIM DA PENHA</td>\n",
       "      <td>0</td>\n",
       "      <td>1</td>\n",
       "      <td>0</td>\n",
       "      <td>0</td>\n",
       "      <td>0</td>\n",
       "      <td>0</td>\n",
       "      <td>No</td>\n",
       "    </tr>\n",
       "    <tr>\n",
       "      <th>1</th>\n",
       "      <td>5.589978e+14</td>\n",
       "      <td>5642503</td>\n",
       "      <td>M</td>\n",
       "      <td>2016-04-29T16:08:27Z</td>\n",
       "      <td>2016-04-29T00:00:00Z</td>\n",
       "      <td>56</td>\n",
       "      <td>JARDIM DA PENHA</td>\n",
       "      <td>0</td>\n",
       "      <td>0</td>\n",
       "      <td>0</td>\n",
       "      <td>0</td>\n",
       "      <td>0</td>\n",
       "      <td>0</td>\n",
       "      <td>No</td>\n",
       "    </tr>\n",
       "    <tr>\n",
       "      <th>2</th>\n",
       "      <td>4.262962e+12</td>\n",
       "      <td>5642549</td>\n",
       "      <td>F</td>\n",
       "      <td>2016-04-29T16:19:04Z</td>\n",
       "      <td>2016-04-29T00:00:00Z</td>\n",
       "      <td>62</td>\n",
       "      <td>MATA DA PRAIA</td>\n",
       "      <td>0</td>\n",
       "      <td>0</td>\n",
       "      <td>0</td>\n",
       "      <td>0</td>\n",
       "      <td>0</td>\n",
       "      <td>0</td>\n",
       "      <td>No</td>\n",
       "    </tr>\n",
       "    <tr>\n",
       "      <th>3</th>\n",
       "      <td>8.679512e+11</td>\n",
       "      <td>5642828</td>\n",
       "      <td>F</td>\n",
       "      <td>2016-04-29T17:29:31Z</td>\n",
       "      <td>2016-04-29T00:00:00Z</td>\n",
       "      <td>8</td>\n",
       "      <td>PONTAL DE CAMBURI</td>\n",
       "      <td>0</td>\n",
       "      <td>0</td>\n",
       "      <td>0</td>\n",
       "      <td>0</td>\n",
       "      <td>0</td>\n",
       "      <td>0</td>\n",
       "      <td>No</td>\n",
       "    </tr>\n",
       "    <tr>\n",
       "      <th>4</th>\n",
       "      <td>8.841186e+12</td>\n",
       "      <td>5642494</td>\n",
       "      <td>F</td>\n",
       "      <td>2016-04-29T16:07:23Z</td>\n",
       "      <td>2016-04-29T00:00:00Z</td>\n",
       "      <td>56</td>\n",
       "      <td>JARDIM DA PENHA</td>\n",
       "      <td>0</td>\n",
       "      <td>1</td>\n",
       "      <td>1</td>\n",
       "      <td>0</td>\n",
       "      <td>0</td>\n",
       "      <td>0</td>\n",
       "      <td>No</td>\n",
       "    </tr>\n",
       "  </tbody>\n",
       "</table>\n",
       "</div>"
      ],
      "text/plain": [
       "      PatientId  AppointmentID Gender          ScheduledDay  \\\n",
       "0  2.987250e+13        5642903      F  2016-04-29T18:38:08Z   \n",
       "1  5.589978e+14        5642503      M  2016-04-29T16:08:27Z   \n",
       "2  4.262962e+12        5642549      F  2016-04-29T16:19:04Z   \n",
       "3  8.679512e+11        5642828      F  2016-04-29T17:29:31Z   \n",
       "4  8.841186e+12        5642494      F  2016-04-29T16:07:23Z   \n",
       "\n",
       "         AppointmentDay  Age      Neighbourhood  Scholarship  Hipertension  \\\n",
       "0  2016-04-29T00:00:00Z   62    JARDIM DA PENHA            0             1   \n",
       "1  2016-04-29T00:00:00Z   56    JARDIM DA PENHA            0             0   \n",
       "2  2016-04-29T00:00:00Z   62      MATA DA PRAIA            0             0   \n",
       "3  2016-04-29T00:00:00Z    8  PONTAL DE CAMBURI            0             0   \n",
       "4  2016-04-29T00:00:00Z   56    JARDIM DA PENHA            0             1   \n",
       "\n",
       "   Diabetes  Alcoholism  Handcap  SMS_received No-show  \n",
       "0         0           0        0             0      No  \n",
       "1         0           0        0             0      No  \n",
       "2         0           0        0             0      No  \n",
       "3         0           0        0             0      No  \n",
       "4         1           0        0             0      No  "
      ]
     },
     "execution_count": 12,
     "metadata": {},
     "output_type": "execute_result"
    }
   ],
   "source": [
    "data.head()"
   ]
  },
  {
   "cell_type": "code",
   "execution_count": 13,
   "metadata": {},
   "outputs": [],
   "source": [
    "#we'll change the data type of ScheduledDay and AppointmentDay features\n",
    "data.ScheduledDay = pd.to_datetime(data.ScheduledDay)\n",
    "data.AppointmentDay = pd.to_datetime(data.AppointmentDay)"
   ]
  },
  {
   "cell_type": "code",
   "execution_count": 14,
   "metadata": {},
   "outputs": [
    {
     "data": {
      "text/plain": [
       "PatientId                     float64\n",
       "AppointmentID                   int64\n",
       "Gender                         object\n",
       "ScheduledDay      datetime64[ns, UTC]\n",
       "AppointmentDay    datetime64[ns, UTC]\n",
       "Age                             int64\n",
       "Neighbourhood                  object\n",
       "Scholarship                     int64\n",
       "Hipertension                    int64\n",
       "Diabetes                        int64\n",
       "Alcoholism                      int64\n",
       "Handcap                         int64\n",
       "SMS_received                    int64\n",
       "No-show                        object\n",
       "dtype: object"
      ]
     },
     "execution_count": 14,
     "metadata": {},
     "output_type": "execute_result"
    }
   ],
   "source": [
    "#we'll view the changes\n",
    "data.dtypes"
   ]
  },
  {
   "cell_type": "markdown",
   "metadata": {},
   "source": [
    "Date columns have been changed to datetime data type"
   ]
  },
  {
   "cell_type": "code",
   "execution_count": 15,
   "metadata": {},
   "outputs": [
    {
     "data": {
      "text/html": [
       "<div>\n",
       "<style scoped>\n",
       "    .dataframe tbody tr th:only-of-type {\n",
       "        vertical-align: middle;\n",
       "    }\n",
       "\n",
       "    .dataframe tbody tr th {\n",
       "        vertical-align: top;\n",
       "    }\n",
       "\n",
       "    .dataframe thead th {\n",
       "        text-align: right;\n",
       "    }\n",
       "</style>\n",
       "<table border=\"1\" class=\"dataframe\">\n",
       "  <thead>\n",
       "    <tr style=\"text-align: right;\">\n",
       "      <th></th>\n",
       "      <th>PatientId</th>\n",
       "      <th>AppointmentID</th>\n",
       "      <th>Gender</th>\n",
       "      <th>ScheduledDay</th>\n",
       "      <th>AppointmentDay</th>\n",
       "      <th>Age</th>\n",
       "      <th>Neighbourhood</th>\n",
       "      <th>Scholarship</th>\n",
       "      <th>Hipertension</th>\n",
       "      <th>Diabetes</th>\n",
       "      <th>Alcoholism</th>\n",
       "      <th>Handcap</th>\n",
       "      <th>SMS_received</th>\n",
       "      <th>No-show</th>\n",
       "    </tr>\n",
       "  </thead>\n",
       "  <tbody>\n",
       "    <tr>\n",
       "      <th>99832</th>\n",
       "      <td>4.659432e+14</td>\n",
       "      <td>5775010</td>\n",
       "      <td>F</td>\n",
       "      <td>2016-06-06 08:58:13+00:00</td>\n",
       "      <td>2016-06-06 00:00:00+00:00</td>\n",
       "      <td>-1</td>\n",
       "      <td>ROMÃO</td>\n",
       "      <td>0</td>\n",
       "      <td>0</td>\n",
       "      <td>0</td>\n",
       "      <td>0</td>\n",
       "      <td>0</td>\n",
       "      <td>0</td>\n",
       "      <td>No</td>\n",
       "    </tr>\n",
       "  </tbody>\n",
       "</table>\n",
       "</div>"
      ],
      "text/plain": [
       "          PatientId  AppointmentID Gender              ScheduledDay  \\\n",
       "99832  4.659432e+14        5775010      F 2016-06-06 08:58:13+00:00   \n",
       "\n",
       "                 AppointmentDay  Age Neighbourhood  Scholarship  Hipertension  \\\n",
       "99832 2016-06-06 00:00:00+00:00   -1         ROMÃO            0             0   \n",
       "\n",
       "       Diabetes  Alcoholism  Handcap  SMS_received No-show  \n",
       "99832         0           0        0             0      No  "
      ]
     },
     "execution_count": 15,
     "metadata": {},
     "output_type": "execute_result"
    }
   ],
   "source": [
    "#veiwing the unlikely value in the Age column\n",
    "data[data.Age == -1]"
   ]
  },
  {
   "cell_type": "code",
   "execution_count": 16,
   "metadata": {},
   "outputs": [],
   "source": [
    "#dropping the value\n",
    "data = data[data.Age != -1]"
   ]
  },
  {
   "cell_type": "markdown",
   "metadata": {},
   "source": [
    "We are dropping the column because there's just one record of that value"
   ]
  },
  {
   "cell_type": "code",
   "execution_count": 17,
   "metadata": {},
   "outputs": [
    {
     "data": {
      "text/plain": [
       "Index(['PatientId', 'AppointmentID', 'Gender', 'ScheduledDay',\n",
       "       'AppointmentDay', 'Age', 'Neighbourhood', 'Scholarship', 'Hipertension',\n",
       "       'Diabetes', 'Alcoholism', 'Handcap', 'SMS_received', 'No-show'],\n",
       "      dtype='object')"
      ]
     },
     "execution_count": 17,
     "metadata": {},
     "output_type": "execute_result"
    }
   ],
   "source": [
    "#renaming our columns\n",
    "data.columns"
   ]
  },
  {
   "cell_type": "code",
   "execution_count": 18,
   "metadata": {},
   "outputs": [],
   "source": [
    "data.rename(columns={\"Hipertension\": \"Hypertension\", \"Handcap\": \"Handicap\"}, errors=\"raise\", inplace=True)"
   ]
  },
  {
   "cell_type": "code",
   "execution_count": 19,
   "metadata": {},
   "outputs": [
    {
     "data": {
      "text/plain": [
       "Index(['PatientId', 'AppointmentID', 'Gender', 'ScheduledDay',\n",
       "       'AppointmentDay', 'Age', 'Neighbourhood', 'Scholarship', 'Hypertension',\n",
       "       'Diabetes', 'Alcoholism', 'Handicap', 'SMS_received', 'No-show'],\n",
       "      dtype='object')"
      ]
     },
     "execution_count": 19,
     "metadata": {},
     "output_type": "execute_result"
    }
   ],
   "source": [
    "data.columns"
   ]
  },
  {
   "cell_type": "markdown",
   "metadata": {},
   "source": [
    "we've successfully renamed the columns that had wrong spellings"
   ]
  },
  {
   "cell_type": "code",
   "execution_count": 20,
   "metadata": {},
   "outputs": [],
   "source": [
    "#encoding our dependent variable\n",
    "data['No-show'] = np.where(data['No-show'] == 'No', 0, 1)"
   ]
  },
  {
   "cell_type": "code",
   "execution_count": 21,
   "metadata": {
    "scrolled": true
   },
   "outputs": [
    {
     "data": {
      "text/plain": [
       "0    88207\n",
       "1    22319\n",
       "Name: No-show, dtype: int64"
      ]
     },
     "execution_count": 21,
     "metadata": {},
     "output_type": "execute_result"
    }
   ],
   "source": [
    "#seeing our changes\n",
    "data['No-show'].value_counts()"
   ]
  },
  {
   "cell_type": "markdown",
   "metadata": {},
   "source": [
    "We've changed the dependent variable values simply for ease of analysis. We're also going to drop the PatientId and \n",
    "AppointmentID columns as they don't really help our analysis."
   ]
  },
  {
   "cell_type": "code",
   "execution_count": 22,
   "metadata": {},
   "outputs": [],
   "source": [
    "#dropping the columns\n",
    "data.drop(columns=['PatientId', 'AppointmentID'], inplace=True)"
   ]
  },
  {
   "cell_type": "code",
   "execution_count": 23,
   "metadata": {
    "scrolled": false
   },
   "outputs": [
    {
     "data": {
      "text/html": [
       "<div>\n",
       "<style scoped>\n",
       "    .dataframe tbody tr th:only-of-type {\n",
       "        vertical-align: middle;\n",
       "    }\n",
       "\n",
       "    .dataframe tbody tr th {\n",
       "        vertical-align: top;\n",
       "    }\n",
       "\n",
       "    .dataframe thead th {\n",
       "        text-align: right;\n",
       "    }\n",
       "</style>\n",
       "<table border=\"1\" class=\"dataframe\">\n",
       "  <thead>\n",
       "    <tr style=\"text-align: right;\">\n",
       "      <th></th>\n",
       "      <th>Gender</th>\n",
       "      <th>ScheduledDay</th>\n",
       "      <th>AppointmentDay</th>\n",
       "      <th>Age</th>\n",
       "      <th>Neighbourhood</th>\n",
       "      <th>Scholarship</th>\n",
       "      <th>Hypertension</th>\n",
       "      <th>Diabetes</th>\n",
       "      <th>Alcoholism</th>\n",
       "      <th>Handicap</th>\n",
       "      <th>SMS_received</th>\n",
       "      <th>No-show</th>\n",
       "    </tr>\n",
       "  </thead>\n",
       "  <tbody>\n",
       "    <tr>\n",
       "      <th>0</th>\n",
       "      <td>F</td>\n",
       "      <td>2016-04-29 18:38:08+00:00</td>\n",
       "      <td>2016-04-29 00:00:00+00:00</td>\n",
       "      <td>62</td>\n",
       "      <td>JARDIM DA PENHA</td>\n",
       "      <td>0</td>\n",
       "      <td>1</td>\n",
       "      <td>0</td>\n",
       "      <td>0</td>\n",
       "      <td>0</td>\n",
       "      <td>0</td>\n",
       "      <td>0</td>\n",
       "    </tr>\n",
       "    <tr>\n",
       "      <th>1</th>\n",
       "      <td>M</td>\n",
       "      <td>2016-04-29 16:08:27+00:00</td>\n",
       "      <td>2016-04-29 00:00:00+00:00</td>\n",
       "      <td>56</td>\n",
       "      <td>JARDIM DA PENHA</td>\n",
       "      <td>0</td>\n",
       "      <td>0</td>\n",
       "      <td>0</td>\n",
       "      <td>0</td>\n",
       "      <td>0</td>\n",
       "      <td>0</td>\n",
       "      <td>0</td>\n",
       "    </tr>\n",
       "    <tr>\n",
       "      <th>2</th>\n",
       "      <td>F</td>\n",
       "      <td>2016-04-29 16:19:04+00:00</td>\n",
       "      <td>2016-04-29 00:00:00+00:00</td>\n",
       "      <td>62</td>\n",
       "      <td>MATA DA PRAIA</td>\n",
       "      <td>0</td>\n",
       "      <td>0</td>\n",
       "      <td>0</td>\n",
       "      <td>0</td>\n",
       "      <td>0</td>\n",
       "      <td>0</td>\n",
       "      <td>0</td>\n",
       "    </tr>\n",
       "  </tbody>\n",
       "</table>\n",
       "</div>"
      ],
      "text/plain": [
       "  Gender              ScheduledDay            AppointmentDay  Age  \\\n",
       "0      F 2016-04-29 18:38:08+00:00 2016-04-29 00:00:00+00:00   62   \n",
       "1      M 2016-04-29 16:08:27+00:00 2016-04-29 00:00:00+00:00   56   \n",
       "2      F 2016-04-29 16:19:04+00:00 2016-04-29 00:00:00+00:00   62   \n",
       "\n",
       "     Neighbourhood  Scholarship  Hypertension  Diabetes  Alcoholism  Handicap  \\\n",
       "0  JARDIM DA PENHA            0             1         0           0         0   \n",
       "1  JARDIM DA PENHA            0             0         0           0         0   \n",
       "2    MATA DA PRAIA            0             0         0           0         0   \n",
       "\n",
       "   SMS_received  No-show  \n",
       "0             0        0  \n",
       "1             0        0  \n",
       "2             0        0  "
      ]
     },
     "execution_count": 23,
     "metadata": {},
     "output_type": "execute_result"
    }
   ],
   "source": [
    "#veiwing changes\n",
    "data.head(3)"
   ]
  },
  {
   "cell_type": "markdown",
   "metadata": {},
   "source": [
    "Now our data is all clean."
   ]
  },
  {
   "cell_type": "markdown",
   "metadata": {},
   "source": [
    "<a id='eda'></a>\n",
    "## Exploratory Data Analysis\n",
    "\n",
    "### Research Question 1 (What factors can help determine if a patient will show up for their scheduled appointment)"
   ]
  },
  {
   "cell_type": "code",
   "execution_count": 24,
   "metadata": {},
   "outputs": [
    {
     "data": {
      "text/html": [
       "<div>\n",
       "<style scoped>\n",
       "    .dataframe tbody tr th:only-of-type {\n",
       "        vertical-align: middle;\n",
       "    }\n",
       "\n",
       "    .dataframe tbody tr th {\n",
       "        vertical-align: top;\n",
       "    }\n",
       "\n",
       "    .dataframe thead th {\n",
       "        text-align: right;\n",
       "    }\n",
       "</style>\n",
       "<table border=\"1\" class=\"dataframe\">\n",
       "  <thead>\n",
       "    <tr style=\"text-align: right;\">\n",
       "      <th></th>\n",
       "      <th>Gender</th>\n",
       "      <th>ScheduledDay</th>\n",
       "      <th>AppointmentDay</th>\n",
       "      <th>Age</th>\n",
       "      <th>Neighbourhood</th>\n",
       "      <th>Scholarship</th>\n",
       "      <th>Hypertension</th>\n",
       "      <th>Diabetes</th>\n",
       "      <th>Alcoholism</th>\n",
       "      <th>Handicap</th>\n",
       "      <th>SMS_received</th>\n",
       "      <th>No-show</th>\n",
       "    </tr>\n",
       "  </thead>\n",
       "  <tbody>\n",
       "    <tr>\n",
       "      <th>0</th>\n",
       "      <td>F</td>\n",
       "      <td>2016-04-29 18:38:08+00:00</td>\n",
       "      <td>2016-04-29 00:00:00+00:00</td>\n",
       "      <td>62</td>\n",
       "      <td>JARDIM DA PENHA</td>\n",
       "      <td>0</td>\n",
       "      <td>1</td>\n",
       "      <td>0</td>\n",
       "      <td>0</td>\n",
       "      <td>0</td>\n",
       "      <td>0</td>\n",
       "      <td>0</td>\n",
       "    </tr>\n",
       "    <tr>\n",
       "      <th>1</th>\n",
       "      <td>M</td>\n",
       "      <td>2016-04-29 16:08:27+00:00</td>\n",
       "      <td>2016-04-29 00:00:00+00:00</td>\n",
       "      <td>56</td>\n",
       "      <td>JARDIM DA PENHA</td>\n",
       "      <td>0</td>\n",
       "      <td>0</td>\n",
       "      <td>0</td>\n",
       "      <td>0</td>\n",
       "      <td>0</td>\n",
       "      <td>0</td>\n",
       "      <td>0</td>\n",
       "    </tr>\n",
       "    <tr>\n",
       "      <th>2</th>\n",
       "      <td>F</td>\n",
       "      <td>2016-04-29 16:19:04+00:00</td>\n",
       "      <td>2016-04-29 00:00:00+00:00</td>\n",
       "      <td>62</td>\n",
       "      <td>MATA DA PRAIA</td>\n",
       "      <td>0</td>\n",
       "      <td>0</td>\n",
       "      <td>0</td>\n",
       "      <td>0</td>\n",
       "      <td>0</td>\n",
       "      <td>0</td>\n",
       "      <td>0</td>\n",
       "    </tr>\n",
       "    <tr>\n",
       "      <th>3</th>\n",
       "      <td>F</td>\n",
       "      <td>2016-04-29 17:29:31+00:00</td>\n",
       "      <td>2016-04-29 00:00:00+00:00</td>\n",
       "      <td>8</td>\n",
       "      <td>PONTAL DE CAMBURI</td>\n",
       "      <td>0</td>\n",
       "      <td>0</td>\n",
       "      <td>0</td>\n",
       "      <td>0</td>\n",
       "      <td>0</td>\n",
       "      <td>0</td>\n",
       "      <td>0</td>\n",
       "    </tr>\n",
       "    <tr>\n",
       "      <th>4</th>\n",
       "      <td>F</td>\n",
       "      <td>2016-04-29 16:07:23+00:00</td>\n",
       "      <td>2016-04-29 00:00:00+00:00</td>\n",
       "      <td>56</td>\n",
       "      <td>JARDIM DA PENHA</td>\n",
       "      <td>0</td>\n",
       "      <td>1</td>\n",
       "      <td>1</td>\n",
       "      <td>0</td>\n",
       "      <td>0</td>\n",
       "      <td>0</td>\n",
       "      <td>0</td>\n",
       "    </tr>\n",
       "  </tbody>\n",
       "</table>\n",
       "</div>"
      ],
      "text/plain": [
       "  Gender              ScheduledDay            AppointmentDay  Age  \\\n",
       "0      F 2016-04-29 18:38:08+00:00 2016-04-29 00:00:00+00:00   62   \n",
       "1      M 2016-04-29 16:08:27+00:00 2016-04-29 00:00:00+00:00   56   \n",
       "2      F 2016-04-29 16:19:04+00:00 2016-04-29 00:00:00+00:00   62   \n",
       "3      F 2016-04-29 17:29:31+00:00 2016-04-29 00:00:00+00:00    8   \n",
       "4      F 2016-04-29 16:07:23+00:00 2016-04-29 00:00:00+00:00   56   \n",
       "\n",
       "       Neighbourhood  Scholarship  Hypertension  Diabetes  Alcoholism  \\\n",
       "0    JARDIM DA PENHA            0             1         0           0   \n",
       "1    JARDIM DA PENHA            0             0         0           0   \n",
       "2      MATA DA PRAIA            0             0         0           0   \n",
       "3  PONTAL DE CAMBURI            0             0         0           0   \n",
       "4    JARDIM DA PENHA            0             1         1           0   \n",
       "\n",
       "   Handicap  SMS_received  No-show  \n",
       "0         0             0        0  \n",
       "1         0             0        0  \n",
       "2         0             0        0  \n",
       "3         0             0        0  \n",
       "4         0             0        0  "
      ]
     },
     "execution_count": 24,
     "metadata": {},
     "output_type": "execute_result"
    }
   ],
   "source": [
    "#veiwing few lines of our data\n",
    "data.head()"
   ]
  },
  {
   "cell_type": "code",
   "execution_count": 25,
   "metadata": {},
   "outputs": [
    {
     "data": {
      "text/plain": [
       "0    88207\n",
       "1    22319\n",
       "Name: No-show, dtype: int64"
      ]
     },
     "execution_count": 25,
     "metadata": {},
     "output_type": "execute_result"
    }
   ],
   "source": [
    "data['No-show'].value_counts()"
   ]
  },
  {
   "cell_type": "code",
   "execution_count": 26,
   "metadata": {},
   "outputs": [
    {
     "name": "stderr",
     "output_type": "stream",
     "text": [
      "C:\\Users\\melodie.ezeani\\Anaconda3\\lib\\site-packages\\seaborn\\_decorators.py:36: FutureWarning: Pass the following variable as a keyword arg: x. From version 0.12, the only valid positional argument will be `data`, and passing other arguments without an explicit keyword will result in an error or misinterpretation.\n",
      "  warnings.warn(\n"
     ]
    },
    {
     "data": {
      "image/png": "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\n",
      "text/plain": [
       "<Figure size 432x288 with 1 Axes>"
      ]
     },
     "metadata": {
      "needs_background": "light"
     },
     "output_type": "display_data"
    }
   ],
   "source": [
    "#we can visualize this distribution\n",
    "t = sns.countplot(data['No-show'])\n",
    "t.set_xticklabels(['Showed up',\"Didn't show up\"])\n",
    "plt.title('Distribution of No-show column');"
   ]
  },
  {
   "cell_type": "markdown",
   "metadata": {},
   "source": [
    "From this distribution we can see that more patients showed up for their appointment than did not. Now we'll start by checking if Age is correlated to the No-show column"
   ]
  },
  {
   "cell_type": "code",
   "execution_count": 27,
   "metadata": {},
   "outputs": [
    {
     "data": {
      "text/html": [
       "<div>\n",
       "<style scoped>\n",
       "    .dataframe tbody tr th:only-of-type {\n",
       "        vertical-align: middle;\n",
       "    }\n",
       "\n",
       "    .dataframe tbody tr th {\n",
       "        vertical-align: top;\n",
       "    }\n",
       "\n",
       "    .dataframe thead th {\n",
       "        text-align: right;\n",
       "    }\n",
       "</style>\n",
       "<table border=\"1\" class=\"dataframe\">\n",
       "  <thead>\n",
       "    <tr style=\"text-align: right;\">\n",
       "      <th>No-show</th>\n",
       "      <th>0</th>\n",
       "      <th>1</th>\n",
       "    </tr>\n",
       "    <tr>\n",
       "      <th>Age</th>\n",
       "      <th></th>\n",
       "      <th></th>\n",
       "    </tr>\n",
       "  </thead>\n",
       "  <tbody>\n",
       "    <tr>\n",
       "      <th>0</th>\n",
       "      <td>81.944052</td>\n",
       "      <td>18.055948</td>\n",
       "    </tr>\n",
       "    <tr>\n",
       "      <th>1</th>\n",
       "      <td>81.742191</td>\n",
       "      <td>18.257809</td>\n",
       "    </tr>\n",
       "    <tr>\n",
       "      <th>2</th>\n",
       "      <td>84.425216</td>\n",
       "      <td>15.574784</td>\n",
       "    </tr>\n",
       "    <tr>\n",
       "      <th>3</th>\n",
       "      <td>81.692003</td>\n",
       "      <td>18.307997</td>\n",
       "    </tr>\n",
       "    <tr>\n",
       "      <th>4</th>\n",
       "      <td>78.290993</td>\n",
       "      <td>21.709007</td>\n",
       "    </tr>\n",
       "    <tr>\n",
       "      <th>...</th>\n",
       "      <td>...</td>\n",
       "      <td>...</td>\n",
       "    </tr>\n",
       "    <tr>\n",
       "      <th>98</th>\n",
       "      <td>83.333333</td>\n",
       "      <td>16.666667</td>\n",
       "    </tr>\n",
       "    <tr>\n",
       "      <th>99</th>\n",
       "      <td>100.000000</td>\n",
       "      <td>NaN</td>\n",
       "    </tr>\n",
       "    <tr>\n",
       "      <th>100</th>\n",
       "      <td>100.000000</td>\n",
       "      <td>NaN</td>\n",
       "    </tr>\n",
       "    <tr>\n",
       "      <th>102</th>\n",
       "      <td>100.000000</td>\n",
       "      <td>NaN</td>\n",
       "    </tr>\n",
       "    <tr>\n",
       "      <th>115</th>\n",
       "      <td>40.000000</td>\n",
       "      <td>60.000000</td>\n",
       "    </tr>\n",
       "  </tbody>\n",
       "</table>\n",
       "<p>103 rows × 2 columns</p>\n",
       "</div>"
      ],
      "text/plain": [
       "No-show           0          1\n",
       "Age                           \n",
       "0         81.944052  18.055948\n",
       "1         81.742191  18.257809\n",
       "2         84.425216  15.574784\n",
       "3         81.692003  18.307997\n",
       "4         78.290993  21.709007\n",
       "..              ...        ...\n",
       "98        83.333333  16.666667\n",
       "99       100.000000        NaN\n",
       "100      100.000000        NaN\n",
       "102      100.000000        NaN\n",
       "115       40.000000  60.000000\n",
       "\n",
       "[103 rows x 2 columns]"
      ]
     },
     "execution_count": 27,
     "metadata": {},
     "output_type": "execute_result"
    }
   ],
   "source": [
    "#we'll first view the proportions of the Age column\n",
    "data.groupby('Age')['No-show'].value_counts(normalize=True).unstack('No-show').mul(100)"
   ]
  },
  {
   "cell_type": "code",
   "execution_count": 28,
   "metadata": {
    "scrolled": false
   },
   "outputs": [
    {
     "data": {
      "image/png": "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\n",
      "text/plain": [
       "<Figure size 1008x432 with 1 Axes>"
      ]
     },
     "metadata": {
      "needs_background": "light"
     },
     "output_type": "display_data"
    }
   ],
   "source": [
    "# Now we'll plot the proportions using a line chart\n",
    "data.groupby('Age')['No-show'].value_counts(normalize=True).unstack('No-show').mul(100).plot(figsize=(14,6), \n",
    "                                                                                             color=['steelblue','r'])\n",
    "#add line for proportions of all patients who do not show\n",
    "plt.axhline(data['No-show'].value_counts(normalize=True)[1]*100, \n",
    "            color='orange', ls='-.', alpha=0.75, label='Proportions of No shows\\n(All Patients)')\n",
    "plt.legend()\n",
    "plt.title('Age Analysis'.title(), fontsize = 14, weight = \"bold\")\n",
    "plt.xlabel('Age'.title(), fontsize = 10, weight = \"bold\")\n",
    "plt.ylabel('Percentage of No-show'.title(), fontsize = 10, weight = \"bold\");"
   ]
  },
  {
   "cell_type": "markdown",
   "metadata": {},
   "source": [
    "This chart shows theres no significant correlation between Age and whether a patient would miss their appointment. Under 10 - less than 20% show up. Now we're going to check if Gender is related to the No-show column"
   ]
  },
  {
   "cell_type": "code",
   "execution_count": 29,
   "metadata": {},
   "outputs": [
    {
     "data": {
      "text/html": [
       "<div>\n",
       "<style scoped>\n",
       "    .dataframe tbody tr th:only-of-type {\n",
       "        vertical-align: middle;\n",
       "    }\n",
       "\n",
       "    .dataframe tbody tr th {\n",
       "        vertical-align: top;\n",
       "    }\n",
       "\n",
       "    .dataframe thead th {\n",
       "        text-align: right;\n",
       "    }\n",
       "</style>\n",
       "<table border=\"1\" class=\"dataframe\">\n",
       "  <thead>\n",
       "    <tr style=\"text-align: right;\">\n",
       "      <th>No-show</th>\n",
       "      <th>0</th>\n",
       "      <th>1</th>\n",
       "    </tr>\n",
       "    <tr>\n",
       "      <th>Gender</th>\n",
       "      <th></th>\n",
       "      <th></th>\n",
       "    </tr>\n",
       "  </thead>\n",
       "  <tbody>\n",
       "    <tr>\n",
       "      <th>F</th>\n",
       "      <td>79.685129</td>\n",
       "      <td>20.314871</td>\n",
       "    </tr>\n",
       "    <tr>\n",
       "      <th>M</th>\n",
       "      <td>80.032052</td>\n",
       "      <td>19.967948</td>\n",
       "    </tr>\n",
       "  </tbody>\n",
       "</table>\n",
       "</div>"
      ],
      "text/plain": [
       "No-show          0          1\n",
       "Gender                       \n",
       "F        79.685129  20.314871\n",
       "M        80.032052  19.967948"
      ]
     },
     "execution_count": 29,
     "metadata": {},
     "output_type": "execute_result"
    }
   ],
   "source": [
    "#we'll first get the proportions of the Gender column\n",
    "data.groupby('Gender')['No-show'].value_counts(normalize=True).unstack('No-show').mul(100)"
   ]
  },
  {
   "cell_type": "markdown",
   "metadata": {},
   "source": [
    "From this analysis we can see that there's no relevant correlation between Gender and No-show, We can also simply veiw this in a bar chart"
   ]
  },
  {
   "cell_type": "code",
   "execution_count": 30,
   "metadata": {},
   "outputs": [],
   "source": [
    "# We'll define a function which will help group and plot the data\n",
    "def group_plot(df, grpvar, yvar, figsize, mul=100):\n",
    "    \"\"\"This function groups data and creates a plot for the data.\n",
    "    input:\n",
    "        df: DataFrame \n",
    "        grpvar: variable to groupby (str)\n",
    "        yvar: y variable --> dataframe column (str)\n",
    "        figsize: (float, float) --> Width, height in inches.2\n",
    "        mul: multiplies each value in the DataFrame with a specified value, default: 100\n",
    "    output: returns a group plot\n",
    "    \"\"\"\n",
    "    # Plot\n",
    "    df.groupby(grpvar)[yvar].mean().mul(mul).plot.bar(edgecolor='black', figsize=figsize, rot=0, width=0.8);\n",
    "    plt.title(f'Percentage {yvar} by {grpvar}'.title(), fontsize=10, weight=\"bold\")\n",
    "    plt.xlabel(grpvar.title(), fontsize=10, weight=\"bold\")\n",
    "    plt.ylabel(f'Percentage of {yvar}'.title(), fontsize=10, weight=\"bold\")  "
   ]
  },
  {
   "cell_type": "code",
   "execution_count": 31,
   "metadata": {
    "scrolled": false
   },
   "outputs": [
    {
     "data": {
      "image/png": "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\n",
      "text/plain": [
       "<Figure size 720x432 with 1 Axes>"
      ]
     },
     "metadata": {
      "needs_background": "light"
     },
     "output_type": "display_data"
    }
   ],
   "source": [
    "group_plot(data, 'Gender', 'No-show', (10,6))"
   ]
  },
  {
   "cell_type": "markdown",
   "metadata": {},
   "source": [
    "The plot shows that there is no correlation between Gender and No-show, the percentage of no-show for male and female is almost the same. We'll move on to checking whether SMS received has a relationship with if a patient will show up or not"
   ]
  },
  {
   "cell_type": "code",
   "execution_count": 32,
   "metadata": {
    "scrolled": true
   },
   "outputs": [
    {
     "data": {
      "text/html": [
       "<div>\n",
       "<style scoped>\n",
       "    .dataframe tbody tr th:only-of-type {\n",
       "        vertical-align: middle;\n",
       "    }\n",
       "\n",
       "    .dataframe tbody tr th {\n",
       "        vertical-align: top;\n",
       "    }\n",
       "\n",
       "    .dataframe thead th {\n",
       "        text-align: right;\n",
       "    }\n",
       "</style>\n",
       "<table border=\"1\" class=\"dataframe\">\n",
       "  <thead>\n",
       "    <tr style=\"text-align: right;\">\n",
       "      <th>No-show</th>\n",
       "      <th>0</th>\n",
       "      <th>1</th>\n",
       "    </tr>\n",
       "    <tr>\n",
       "      <th>SMS_received</th>\n",
       "      <th></th>\n",
       "      <th></th>\n",
       "    </tr>\n",
       "  </thead>\n",
       "  <tbody>\n",
       "    <tr>\n",
       "      <th>0</th>\n",
       "      <td>83.296466</td>\n",
       "      <td>16.703534</td>\n",
       "    </tr>\n",
       "    <tr>\n",
       "      <th>1</th>\n",
       "      <td>72.425455</td>\n",
       "      <td>27.574545</td>\n",
       "    </tr>\n",
       "  </tbody>\n",
       "</table>\n",
       "</div>"
      ],
      "text/plain": [
       "No-show               0          1\n",
       "SMS_received                      \n",
       "0             83.296466  16.703534\n",
       "1             72.425455  27.574545"
      ]
     },
     "execution_count": 32,
     "metadata": {},
     "output_type": "execute_result"
    }
   ],
   "source": [
    "#checking if SMS received is related to No-show, we'll first get the proportions of SMS received\n",
    "data.groupby('SMS_received')['No-show'].value_counts(normalize=True).unstack('No-show').mul(100)"
   ]
  },
  {
   "cell_type": "code",
   "execution_count": 33,
   "metadata": {},
   "outputs": [],
   "source": [
    "# We'll change values of the SMS_received column for ease of interpretation\n",
    "#Making a copy of the data, so our changes don't affect our main data\n",
    "k = data.copy()\n",
    "k['SMS_received'] = np.where(k['SMS_received'] == 0, 'no_SMS', 'recieved_SMS')"
   ]
  },
  {
   "cell_type": "code",
   "execution_count": 34,
   "metadata": {},
   "outputs": [
    {
     "data": {
      "text/html": [
       "<div>\n",
       "<style scoped>\n",
       "    .dataframe tbody tr th:only-of-type {\n",
       "        vertical-align: middle;\n",
       "    }\n",
       "\n",
       "    .dataframe tbody tr th {\n",
       "        vertical-align: top;\n",
       "    }\n",
       "\n",
       "    .dataframe thead th {\n",
       "        text-align: right;\n",
       "    }\n",
       "</style>\n",
       "<table border=\"1\" class=\"dataframe\">\n",
       "  <thead>\n",
       "    <tr style=\"text-align: right;\">\n",
       "      <th></th>\n",
       "      <th>Gender</th>\n",
       "      <th>ScheduledDay</th>\n",
       "      <th>AppointmentDay</th>\n",
       "      <th>Age</th>\n",
       "      <th>Neighbourhood</th>\n",
       "      <th>Scholarship</th>\n",
       "      <th>Hypertension</th>\n",
       "      <th>Diabetes</th>\n",
       "      <th>Alcoholism</th>\n",
       "      <th>Handicap</th>\n",
       "      <th>SMS_received</th>\n",
       "      <th>No-show</th>\n",
       "    </tr>\n",
       "  </thead>\n",
       "  <tbody>\n",
       "    <tr>\n",
       "      <th>0</th>\n",
       "      <td>F</td>\n",
       "      <td>2016-04-29 18:38:08+00:00</td>\n",
       "      <td>2016-04-29 00:00:00+00:00</td>\n",
       "      <td>62</td>\n",
       "      <td>JARDIM DA PENHA</td>\n",
       "      <td>0</td>\n",
       "      <td>1</td>\n",
       "      <td>0</td>\n",
       "      <td>0</td>\n",
       "      <td>0</td>\n",
       "      <td>no_SMS</td>\n",
       "      <td>0</td>\n",
       "    </tr>\n",
       "  </tbody>\n",
       "</table>\n",
       "</div>"
      ],
      "text/plain": [
       "  Gender              ScheduledDay            AppointmentDay  Age  \\\n",
       "0      F 2016-04-29 18:38:08+00:00 2016-04-29 00:00:00+00:00   62   \n",
       "\n",
       "     Neighbourhood  Scholarship  Hypertension  Diabetes  Alcoholism  Handicap  \\\n",
       "0  JARDIM DA PENHA            0             1         0           0         0   \n",
       "\n",
       "  SMS_received  No-show  \n",
       "0       no_SMS        0  "
      ]
     },
     "execution_count": 34,
     "metadata": {},
     "output_type": "execute_result"
    }
   ],
   "source": [
    "#viewing our changes\n",
    "k.head(1)"
   ]
  },
  {
   "cell_type": "code",
   "execution_count": 35,
   "metadata": {},
   "outputs": [
    {
     "data": {
      "image/png": "iVBORw0KGgoAAAANSUhEUgAAAl4AAAGCCAYAAAAxNc1PAAAAOXRFWHRTb2Z0d2FyZQBNYXRwbG90bGliIHZlcnNpb24zLjQuMywgaHR0cHM6Ly9tYXRwbG90bGliLm9yZy/MnkTPAAAACXBIWXMAAAsTAAALEwEAmpwYAAAmkElEQVR4nO3dd5xldX3/8debIkYlCAEj0hYRUTBIcH9GMCqiYheNGCGGkihoggiKiorIKnYsGCFGUEKRYEcRO1goYgGlY5e+yFIFKVI+vz/Od9hhnJ25s+49s3v39Xw87uOe8z3tc+/c2Xnv93vuOakqJEmSNHwrzHYBkiRJywuDlyRJUk8MXpIkST0xeEmSJPXE4CVJktQTg5ckSVJPDF7SEpJkTpIa97g+yaeT/M1SUNumSeYl2abHY+7W3ocbk6zW2o5qbXMXY38vSfKLJHckuSbJd5Ks0JZdkuSWJf0aJqlhm3E/37uTzE/y0SQrznA/GyT5RpKbk/whyblJnjbEusd/Nu9J8vsk/zX2/g3pWCctwX2e1PY5Z0ntU5otBi9pyfsZ8C/Ad4GXAu+fycZJVhpCTZsCBwLbDGHf01kN2PMv2UGSNYFPAX8CXgW8b2zRX1baYvsWsCvwW+DVwD/NcPsPA08H3gnsC/wY6COg/wzYBfgNsBfw4iEcYwGwEwt/RpLGMXhJS95VVXU88NY2/w8ASbZKcmaSW5L8MslOrX2sh+AHSU4GrmztOye5MMltSX6TZMPW/uYkv2u9Jd9M8vDWPq/t59C2/wWtl2gO8LlWy4FtnW2SvDHJVUn+lOSKJAeOvYAk2yb5bZJLkxzctjmqLVsnyReS3NC2f+80PSd/APZJ8lcTFyTZPsn5Sf6Y5IIk2y9iHw8H7gdcBpxQVR+sqm2r6u4J+zsoyXVJfpLkoa1tsySntPfr0iQHpLNHe13PTLJ2m/5Y2+bsJFdM8ZouB74NXNTmV0ryvLaPfdo+tmzz751k+0cBdwJfr6ojqmr3qvps227s53hYq/fSJP/Yfta3JPl4W+8BST6f5Kb2/p2TZLMpaobus/kp4LBx7ytJVktyZLqexGuTHJ7kAW3ZI5N8LV3P5Q1JXt3aJ/08A2sBxwP7petprSQfads8uH3evtzm/z1dL+Yf2+d/y9a+SpJj2zFPBP56mtclLTMMXtKSt3KStYAXtvnLkqwBnAQ8GHgXcAlwbJItxm23FXA2cECSpwDHACsBrwE+TffHfVfg3cCPgPcCmwOfnXD8p9P9YV2trbMAOKQt+wJdb8RFdOHhIGAf4DxgXpInJlkFOI7uD+gHgK0n7P9TwDOAjwAnAvsB/znF+3Fkq2X38Y1JNqELhCsDr22v9XNJNknyoCRrtscDgIuB64DnANclOSvJKyYc54HAusDXgLnA7klWbjX+A7B/e53vAP4NOLVtt1V7AGzVjrc5cNoUr+nlwNXAK9o+v9yOe0nbNyzsBTtmku1PA+4PnNvC62HtMzLePwKfANYHvg/8EPgFsEf73DyTrsfqM3S9V9+jey+nsnKSv2Vhz+dP2vMhwM7AUe2YLwfeka739Sss/HnvD9w24OeZqroIOAd4cZIA27caP5Vu2PuTbdt30vX4nZjk/nS9mv8KfKe9VxM/g9Kyq6p8+PCxBB7AHKAmPK4AtgCeO8myAl43brufjtvXwa3tuROO8blF7GcNYF6b3qOt+3Pg7ja9Q1s2b9y+9gaun7CfVwGPbdOfaus9o80fBTwIuGeS4584yfuxW1v2euAIut6q41rbXLohugJ2b+vv3ub3bMca2/e8tvyRwMeBS8cte3ZbdglwN12YeUJb9kngMW36uLbexm3+c23+GuCbdMPBXwfuAp7f1vnPSV7TNm3Zl9r7ckSb360tf3Ob35IuLJ61iM/K/YA30IWpu9o2n2nLxn6Or6ALKQVc0ZYd1OZf1H5Od9MNH34IeAGQGXw2Pzxu+YJJlp8HbDb+/Rq3/iCf55Pauq9v81vThbib2s/p4EXsY0vghDa9UdvHaW1+zmz/nvvw8Zc+hnEuibS8+xFdz8D1wEVVdUeSdduyY4Bjx617ybjpqwbY99g5TS+jCw3Q9VzfOm6d69vzXSzs1b7PTVmTPJDuj/WVLAxbb6H7g8hk20xwLt0f1DE3TVP3++h6gp43ybLJjvN+up41gN+2nqtfVdUrW/1vB95GF6y+3ta7rapuT3JXmx9/wvuiXsvpwLZ0gXIsqO3dlp26iG2gC0LfbsORr6DriTuKrrdoHt3rfdS4ff2ZqjoYODjJRsCv2rHHu7Gq7uw6irixtY0Nra5YVecm2ZwuBD2Frtdw91bDovyIrnfrPcCeSY6qqnPbsqvper3G3DHFfsY+h1N9nsccz8Kf/zPoQvDtrQcMunPczmvTKwC/m+J40jLP4CUteddW1SkT2n5AF4ieRTe8sxJdCDmIrgdnoq/QBZsPJXkYsAFwdGt/Md2J3Z+mO0dnm6p60sK/Y5O6oT0/KcmOwFfpwsgqwOrcNxD9nO6P8PZJ9qT7ogAAVXVLku8DTwaeRBfc/rFt8xMWoap+neRzwI7jmr9Nd57Tvu2P8Gvb/MlV9QsWnj9FG8L6vySfpnu/ntwWnT/Vi6YbmvtNey170Q3DQjcsCF24ehHdUOMrgDOBl9C9XxdOsd+N2zlNL2zzl7TXuSDJ2HDunXShYzKnJLkA+CndUGIGeC33keRJdEN3F9L1ej0HeNg0m11bVZ9Ocivd8Og72j5OouuhfAFdqH4cXc/mPsAvgRcmmQf8nu4LDicw4Oe5qq5M8j264cuwMFCfRBe6dqILlmsDO1fVo5J8l+69PTjJmXS9mNJomO0uNx8+RuXBhCGWSZZvBZwB3EI3tHMiXaCadDu63oeLgNvpwsOGrX0/um/T3Q78GnhXa5/X9rNDm7+g+xW/d2jrZLo/mkV3LtTr6P7gXcjCYZ992vrb0vU8XA58sC07pC1bh27I8zq6E+fPAJ4+yevdrW33+ja/OQuHKee2tu3pAsetrd4XLuK9eyjwRbpewTtaXQeOW34JcEubntuOcVSb34zuXKGb6YY7D6ANydEFjKILWmPhb9Kh07b+Ntx3WOw6unPsHjxunSe1ZV+e4rPy1vaz/WP7GZwErLuIn2MBF0xc1l7nOW0fNwPfAB4y6GcTOKv9PDanOwfvCLrAfQtdINyprbcJXa/ije192mumn2fg31vb5cAKEz4jFwO30QW2I1v7KnQ9aTe198ahRh8j8xj7x0eS7pXu24Wh+4P4OmA74PlVtcSuzTSKkmxM14PzduAFVfWVWahhzYltVXVt33VImpxDjZImsz7dOVSr0vUmvdrQNZD96YLX/9L11MyGBZO0eY6UtJSwx0uSRkiSp09sq6qTZ6MWSX/O4CVJktQTL6AqSZLUk2XiHK8111yz5syZM9tlSJIkTevss8++tqrWmmzZMhG85syZw1lnnTXbZUiSJE0ryWTXZwQcapQkSeqNwUuSJKknBi9JkqSeGLwkSZJ6YvCSJEnqicFLkiSpJwYvSZKknhi8JEmSemLwkiRJ6onBS5IkqScGL0mSpJ4YvCRJknpi8JIkSeqJwUuSJKknK812AZI0qtZed32uvvLy2S5DmlUPXWc95l9x2WyXsdQweEnSkFx95eVssN9Js12GNKsufd/zZruEpYpDjZIkST0xeEmSJPXE4CVJktQTg5ckSVJPDF6SJEk9MXhJkiT1xOAlSZLUE4OXJElSTwxekiRJPTF4SZIk9cTgJUmS1BODlyRJUk8MXpIkST0xeEmSJPXE4CVJktQTg5ckSVJPDF6SJEk9MXhJkiT1xOAlSZLUE4OXJElSTwxekiRJPTF4SZIk9cTgJUmS1BODlyRJUk+GFrySrJfku0kuTnJhkr1b+7wkVyY5pz2eM6waJEmSliYrDXHfdwH7VtVPk6wKnJ3k223Zh6vqA0M8tiRJ0lJnaMGrquYD89v0zUkuBtYZ1vEkSZKWdr2c45VkDvD3wI9a06uTnJfkyCSrL2KbPZKcleSsBQsW9FGmJEnSUA09eCV5EPAFYJ+q+gPwMWAjYAu6HrEPTrZdVR1eVXOrau5aa6017DIlSZKGbqjBK8nKdKHruKr6IkBV/b6q7q6qe4AjgMcPswZJkqSlxTC/1Rjgk8DFVfWhce1rj1vtRcAFw6pBkiRpaTLMbzU+EdgZOD/JOa3tLcBOSbYACrgEeOUQa5AkSVpqDPNbjacDmWTR14Z1TEmSpKWZV66XJEnqicFLkiSpJwYvSZKknhi8JEmSemLwkiRJ6onBS5IkqScGL0mSpJ4YvCRJknpi8JIkSeqJwUuSJKknBi9JkqSeGLwkSZJ6YvCSJEnqicFLkiSpJwYvSZKknhi8JEmSemLwkiRJ6onBS5IkqScGL0mSpJ4YvCRJknpi8JIkSeqJwUuSJKknBi9JkqSeGLwkSZJ6YvCSJEnqicFLkiSpJwYvSZKknhi8JEmSemLwkiRJ6onBS5IkqScGL0mSpJ4YvCRJknpi8JIkSeqJwUuSJKknBi9JkqSeGLwkSZJ6YvCSJEnqicFLkiSpJwYvSZKknhi8JEmSemLwkiRJ6onBS5IkqScGL0mSpJ4YvCRJknpi8JIkSeqJwUuSJKknBi9JkqSeTBu8kvx7ko1nuuMk6yX5bpKLk1yYZO/WvkaSbyf5VXtefXEKlyRJWtYM0uP1CeDnSeYn+WySvZJsMcB2dwH7VtWjgScAeybZFHgTcEpVbQyc0uYlSZJG3koDrLM9sFV7PAd4MVDTbVtV84H5bfrmJBcD67T9bdNWOxr4HrDfzEuXJElatgwSvH4EhK537H50AeymmRwkyRzg79u+/raFMqpqfpKHLGKbPYA9ANZff/2ZHE6SJGmpNMhQ49XACcDmdMOOm1XVGoMeIMmDgC8A+1TVHwbdrqoOr6q5VTV3rbXWGnQzSZKkpdYgPV5H0J2jtR2wKXBmkh9U1Uen2zDJynSh67iq+mJr/n2StVtv19rANYtZuyRJ0jJl2h6vqnolMBd4NnAh8M/AIdNtlyTAJ4GLq+pD4xadCOzapncFvjyzkiVJkpZN0/Z4JTkD2JLu/K4ANwBnDLDvJwI7A+cnOae1vQV4L/DZJC8HLgNeMvOyJUmSlj2DDDXOAb4EnAacVlXnD7LjqjqdLqhN5mmD7EOSJGmUTBu8qmqdJCsCjwRIsmJV3T30yiRJkkbMIFeufzRwMXBBe1zU2iRJkjQDg1xO4jBgbeB44NNtetpvNEqSJOm+BjnHay7w5qo6FCDJq4F3D7UqSZKkETRIj9f1wNOTPDzJw4FnANcNtyxJkqTRM+gFVA8Cnj+u7YDhlCNJkjS6BvlW47uSzKe7gCrAV6vqqKFWJUmSNIIG6fECOAb4JrAiQJL1q+qyoVUlSZI0gga5cv1rgPcA9x/XXINsK0mSpIUGCU/zgNuBU4G7hlqNJEnSCBskeP0GOLKqPjbsYiRJkkbZIoNXkte1yXOAA5I8jO4G2QBVVR8ecm2SJEkjZaoerw/Qncs1dqPr/cctK8DgJUmSNANTBa9/660KSZKk5cAig1dVHd1nIZIkSaNukbcMSrJTkr3a9HpJzkxyc5IzkmzaX4mSJEmjYap7NR4APLxNvxP4B+BOuptmHzrkuiRJkkbOVMFrfeDcNv1cumt5bQS8FXjckOuSJEkaOVMFrz8Bj0iyLbAGcGZV3QD8ge5bjZIkSZqBqYLXycBbgG/TBa3jW/vWdBdVlSRJ0gxMdTmJPYArgE2A06rqE0lWBlYBvIq9JEnSDE11OYkbgddNaLsT2HHINUmSJI2kqYYa75Xkb5Lc3c73kiRJ0mIYKHg1mX4VSZIkLcpMgpckSZL+AlOdXH+vqrouyYbA/CHXI0mSNLKm7fFK8uAkRwE/Bi5PcmSS1YZemSRJ0ogZZKjxI8AudBdU/ROwG3DI8EqSJEkaTYMEr2cD76+q9apqPeBgulsISZIkaQYW5+R6bxckSZK0GAY5uf5rwBuS/EubXwc4ZnglSZIkjaZBgtc+dD1jz27zxwKvHVZB6qy97vpcfeXls12GNKseus56zL/istkuQ5KWmGmDV7t10C7DL0XjXX3l5Wyw30mzXYY0qy593/NmuwRJWqIWGbySnDjFdlVV2w+hHkmSpJE1VY/XZP/VLLpbB3mCvSRJ0gxNFbw2HDe9Ct31u/4TWBU4YYg1SZIkjaRFXk6iqi4FFgAvBr4DvB74ErBZVe3QS3WSJEkjZKpzvN4G7AU8ADiS7iKqfs1OkiRpMU11AdV5wBrAisCuwIVJ/tAeN/VRnCRJ0iiZ6hyvy/AkekmSpCVmkcGrqub0WIckSdLIW5x7NUqSJGkxGLwkSZJ6YvCSJEnqySKDV5JTkzw1yZFJ/l+fRUmSJI2iqb7VuDWwFd2lJM5K8vvxC6vqsmEWJkmSNGqmCl6XAAe16Y+2x5iaZltJkiRNMNU5Xi8Hvkh3U+xzgK+Ne3x9uh23Icprklwwrm1ekiuTnNMez/mLqpckSVqGTHUdr+8D309yIPC5qrpohvs+CjgUOGZC+4er6gMz3JckSdIyb8rhwiSr0w0rzksCcD5wWFVdP92Oq+rUJHOWRJGSJEmjYKqbZD8WOJnufo1pzTsAr0nytKo6bzGP+eokuwBnAftW1Q2LuR9JkqRlylTneL0fWBV4H/ACYHvgvcCD2rLF8TFgI2ALYD7wwUWtmGSPJGclOWvBggWLeThJkqSlx1RDjU8EDqqqd41r+0qSW4H9FudgVXXvJSmSHAGcNMW6hwOHA8ydO9ebdUuSpGXeVD1e1R4T3bO4B0uy9rjZFwEXLGpdSZKkUTNVj9eZwFuT3B/4YWt7ArAvcNp0O05yPLANsGaSK4ADgW2SbEEX6C4BXrm4hUuSJC1rpgpebwC+A+w/ri3ADcAbp9txVe00SfMnZ1SdJEnSCJnqOl7nJnkksBfwmNZ8PnBoVV3XR3GSJEmjZMrreLWANa+fUiRJkkbbVCfXS5IkaQkyeEmSJPXE4CVJktSTgYJXkv9M8qUkj0vypiTbDrswSZKkUTNt8EryHuBQ4PnAasCjgbcPuS5JkqSRM0iP1y7Ax8fNnw783XDKkSRJGl2DBK+/oruh9Zh1gDuHU44kSdLomvI6Xs13gde16Q/Q9XZ9cWgVSZIkjahBerz2An7Wph9Ld5/G1w6tIkmSpBE1bY9XVV0FPDXJA9v8H4delSRJ0giaNnglOXLCPMCNwMlV9bXhlCVJkjR6BjnHazeggLT5sem9k+xZVf8zpNokSZJGyiDneH0AOBPYDnhmm/4Q8G3gNcMrTZIkabQM0uP1EuADVXUyQJKNgf2A3YEvDa80SZKk0TJI8Crg3Uke3+a3B66ju77XLcMqTJIkadQMMtT4CuBWYOf2uLW1FfCO4ZUmSZI0Wga5nMR3kmwAPKo1/byq/jTcsiRJkkbPIEONAI+ju2L9/YFtklBV/zW8siRJkkbPINfxehtw4CSLDF6SJEkzMMg5XrsD32jT7wHOp7vEhCRJkmZgkOD1EOCkNn0O8N/Ac4ZVkCRJ0qga5Byva4F76G4T9AFglfaQJEnSDAzS43UIcBPwdmA9YE3goCHWJEmSNJIG6fH6EXBRVV2b5BN0Ye2vh1uWJEnS6Bmkx+u7wFMBqupW4LnA5cMsSpIkaRQtsscryZOBbYAAL0ny6LboycCdwy9NkiRptEw11PhUuut3FbBDe4w5eZhFSZIkjaKpgtdngQvb8yHAGXQh7Abg9KFXJkmSNGIWGbyq6mLg4iQbAtdU1W39lSVJkjR6Bjm5fi5wXpI7k9zdHncNuzBJkqRRM8jlJD4GrAb8GjBwSZIkLaZBgtcNwEFV9dFhFyNJkjTKBgle3wL+I8mtdCEMoKrqhOGVJUmSNHoGCV57tufD23Povt244lAqkiRJGlGDBK930AUtSZIk/QWmDV5VNQ8gyYOBW6vqT0OuSZIkaSRNezmJJHOS/Bi4Fnhyku8necfwS5MkSRotg1zH63+AdenO7boHOBXYcZhFSZIkjaJBgtfWwKHj5n9DF8QkSZI0A4MEr2uBx7Tph9D1dl01tIokSZJG1CDfajwCeFebPq49v2k45UiSJI2uQb7V+J4kVwHPpTvP6ytVdczQK5MkSRox0wavJBsAp1fV0W1+oyQbVNWlQ69OkiRphAxyjtfJwG7j5ndrbZIkSZqBQYLXOsAl4+YvbW2SJEmagUFOrv8t8PokV9Kd47Vva5MkSdIMDNLj9T5gE+CrwElt+j3TbZTkyCTXJLlgXNsaSb6d5FftefXFLVySJGlZM23wqqpjgW2AD7bHU6rquCk36hwFPGtC25uAU6pqY+AUvCyFJElajkw51JhkReAK4ICqeuNMdlxVpyaZM6F5e7oQB3A08D1gv5nsV5IkaVk1ZY9XVd0NXABstISO97dVNb/tez7dlfAnlWSPJGclOWvBggVL6PCSJEmzZ5CT6x8AvDHJM1h4q6Cqqu2HVxZU1eHA4QBz586tYR5LkiSpD4MEr63a85btAbC4Qej3SdauqvlJ1gauWcz9SJIkLXMGCV4bLsHjnQjsCry3PX95Ce5bkiRpqTbItxovBVYDXgSsCKwP3DPddkmOB84ENklyRZKX0wWuZyT5FfCMNi9JkrRcGORejTsCx9KFtPOANwO30AWxRaqqnRax6GkzrFGSJGkkDHIB1bcD3xk3/1Vg6+GUI0mSNLoGCV4P477B607gr4ZTjiRJ0uga5OT684Fd2vTOdFejP3doFUmSJI2oQXq89gUeSneD7F2BlYHXD7MoSZKkUTRtj1dVnZnkEXTX8wrwg6q6YeiVSZIkjZhF9nglWT3JEUnOA44Brqiqrxq6JEmSFs9UPV7/Dby0TT8G2DzJI6rqzuGXJUmSNHqmOsdrO+ALwKbA/sC6bVqSJEmLYargtTrw+ar6OXAE3fldq/dSlSRJ0gia7uT6NyR5Gd03GQt4d5Jrgaqq7YdenSRJ0giZLnht2R5jntCeazjlSJIkja6pgteGvVUhSZK0HFhk8KqqS/ssRJIkadQNcuV6SZIkLQEGL0mSpJ4YvCRJknpi8JIkSeqJwUuSJKknBi9JkqSeGLwkSZJ6YvCSJEnqicFLkiSpJwYvSZKknhi8JEmSemLwkiRJ6onBS5IkqScGL0mSpJ4YvCRJknpi8JIkSeqJwUuSJKknBi9JkqSeGLwkSZJ6YvCSJEnqicFLkiSpJwYvSZKknhi8JEmSemLwkiRJ6onBS5IkqScGL0mSpJ4YvCRJknpi8JIkSeqJwUuSJKknBi9JkqSeGLwkSZJ6YvCSJEnqicFLkiSpJwYvSZKknqw0GwdNcglwM3A3cFdVzZ2NOiRJkvo0K8GreWpVXTuLx5ckSeqVQ42SJEk9ma3gVcC3kpydZI/JVkiyR5Kzkpy1YMGCnsuTJEla8mYreD2xqrYEng3smeTJE1eoqsOram5VzV1rrbX6r1CSJGkJm5XgVVVXtedrgBOAx89GHZIkSX3qPXgleWCSVcemge2AC/quQ5IkqW+z8a3GvwVOSDJ2/P+rqm/MQh2SJEm96j14VdVvgcf2fVxJkqTZ5uUkJEmSemLwkiRJ6onBS5IkqScGL0mSpJ4YvCRJknpi8JIkSeqJwUuSJKknBi9JkqSeGLwkSZJ6YvCSJEnqicFLkiSpJwYvSZKknhi8JEmSemLwkiRJ6onBS5IkqScGL0mSpJ4YvCRJknpi8JIkSeqJwUuSJKknBi9JkqSeGLwkSZJ6YvCSJEnqicFLkiSpJwYvSZKknhi8JEmSemLwkiRJ6onBS5IkqScGL0mSpJ4YvCRJknpi8JIkSeqJwUuSJKknBi9JkqSeGLwkSZJ6YvCSJEnqicFLkiSpJwYvSZKknhi8JEmSemLwkiRJ6onBS5IkqScGL0mSpJ4YvCRJknpi8JIkSeqJwUuSJKknBi9JkqSeGLwkSZJ6YvCSJEnqicFLkiSpJ7MSvJI8K8kvkvw6yZtmowZJkqS+9R68kqwIHAY8G9gU2CnJpn3XIUmS1LfZ6PF6PPDrqvptVf0J+DSw/SzUIUmS1KvZCF7rAJePm7+itUmSJI20lWbhmJmkrf5spWQPYI82e0uSXwy1qqXQpe973myXsLxbE7h2totY3iWT/ZOx7PD3eNb5e7wUWNZ/jxfDBotaMBvB6wpgvXHz6wJXTVypqg4HDu+rKGmiJGdV1dzZrkPS4vP3WEub2Rhq/AmwcZINk9wP2BE4cRbqkCRJ6lXvPV5VdVeSVwPfBFYEjqyqC/uuQ5IkqW+zMdRIVX0N+NpsHFuaAYe6pWWfv8daqqTqz85rlyRJ0hB4yyBJkqSeGLwkSZJ6YvCSJkjyhCQ/SnJOkouTzGvtuyWpJE8bt+6LWtsObf55SX6W5NwkFyV55Sy9DGmZluRVSXYZ8jFumWLZCkn+K8kFSc5P8pMkG7ZllyQ5bcL65yS5oE0/IMlxbbsLkpye5EHDfC1adszKyfXSUu5o4J+r6tx2b9FNxi07H9gJOKXN7wicC5BkZboTeR9fVVckWQWY01vV0lIs3RU0U1X3DLJ+Vf3PkEuazkuBhwGbV9U9SdYF/jhu+apJ1quqy5M8esK2ewO/r6q/A0iyCXBnL1VrqWePl0ZKkjmtl+qIJBcm+VaSv0qyRZIfJjkvyQlJVp9iNw8B5gNU1d1VddG4ZacBj0+ycvsf7COAc9qyVen+M3Nd2/aOqlru7rggjRn3+/jfwE+BA1rP0XlJ3j5uvV1a27lJjm1t85K8vk1vlOQbSc5OclqSRyVZrfU8rdDWeUCSy9vv5p+t39bZMMmZrYaDpil/bWD+WFCsqiuq6oZxyz9LF86g+8/Y8RO2vXJspqp+UVV3zPwd1CgyeGkUbQwcVlWbATcCLwaOAfarqs3peq0OnGL7DwO/aAHtlUnuP25ZAScDz6S7ufu9F/+tquvb/KVJjk/ysrE/CtJybBPa7x/dfXkfD2wBPC7Jk5NsBuwPbFtVj6XrLZrocGCvqnoc8Hrgv6vqJrre5qe0dZ4PfLOq7pxs/bbOR4CPVdX/A66epu7PAs9vQ4gfTPL3E5Z/Hvinccf+yrhlRwL7tZD3ziQbT3MsLUf8o6BR9LuqOqdNnw1sBDy4qr7f2o4GnryojavqHcBc4FvAvwDfmLDKp+mGGHfkvv/LpapeATwN+DHdP/hH/iUvRBoBl1bVD4Ht2uNndL1fj6L7T9K2wOer6lq49z8w92o9y1sDn0tyDvBxuh4lgM+wsNdpR+Az06z/RBb+zh47VdFVdQVdaHwzcA9wyvjzO4HrgRuS7AhcDNw6bttzgIcDBwNrAD+ZZDhSyynP8dIoGt+lfzfw4JnuoKp+A3wsyRHAgiR/M27Zj5M8Britqn458eavVXU+cH4bMvkdsNuMX4E0OsbOiwrwnqr6+PiFSV5D15O8KCsAN1bVFpMsOxF4T5I1gMcB3wEeOMX6THOs+67YDQ9+Hfh6kt8DL2Th+Z3QBb/DmOR3vKpuAb4IfDHJPcBz6AKalnP2eGl5cBPd/0yf1OZ3Br6/qJWTPDcL09TGdOHtxgmrvRl4y4TtHpRkm3FNWwCXLm7R0oj5JvDvY9/uS7JOkofQBZl/HvvPTQtR96qqPwC/S/KStjxJHtuW3ULXu/wR4KR2TuYi1wfOoOsZA3jZVMUm2TLJw9r0CsDm/Pnv8wnA+9trG7/tE8fOI013T+JNJ9lWyyl7vLS82BX4nyQPAH4L/NsU6+4MfDjJrcBdwMuq6u7xPVtV9fVJtgvwxiQfB26j+5/+bkumfGnZVlXfasNtZ7bfpVuAf62qC5O8C/h+krvphiJ3m7D5y+h6oN8KrEw33H9uW/YZ4HPANgOsvzfwf0n2Br4wTckPAY5o306GLuAdOuE13Qy8D2BCz/dG7fih6+D46gDH03LCWwZJkiT1xKFGSZKknjjUqOVWksPovuU03keq6n9nox5J/Uvyd/z5NxzvqKp/mI16NPocapQkSeqJQ42SJEk9MXhJkiT1xOAlSZLUE4OXpKFL8pIkv0hyR5JrknxnWPexbDdXrva4I93N0p8/5GPtsIT2t2bb3/eWxP4kLX38VqOkoUqyJvAp4JfAq+juXfdcugvODtMhwG/oLnB5XJLVq+ruJXyMzwM/B364hPcraUTZ4yVp2B4O3A+4DDihqj5YVdu2uwFckuSWJB9MclOSLybZLsnlSeYneRbcewuW85LcnmRBkuOnPGLnjKo6FPgBsCqwZtvXVknObMf9ZZKdxjZIsnPrIbstyW+SbNja35zkd0luTvLNJA9vm+xAd9PlJyQ5uPVW/X3bZs82/6IkqyU5svX2XZvk8HYXBZJsnuT8JPOB1y6B91vSUszgJWnYLgauo7tJ8HVJzkryinHLHwjcHzgTeBFwOHAw3S1b3tvWeSNdgNsbeAdw7QDHXTXJJsCjgUvobna+BnAS3Y3T39Xaj02yRZKnAMfQjQS8hu42Mysl2RV4N/CjVs/mwGcnOd6n2vNL2vMOwA10t4s5hO5WVEcBnwBe3l4HwNGtxg+1Z0kjzKFGSUNVVTcn2RrYF3gW8Di6e+Bd2Va5h66nZ1fgmcCxVfVfSd4AbNjW+RXwPGA74KfAYQMc+sj2fDuwTVXdk2QruqHONejC1JhtgbXb9Ouq6qtjC5KMrffS9gB46CQ3cz43yYXAi5N8GHgS8Mmq+lOS59H9e/uGcZtsl2Q1upupn15VByfZiC58ShpRBi9JQ5VkZeBXVfXKNv924G3AY9oqt7Vwcmebv6k93w2s2KbfCJwKbE3XW/TmJOtW1Y1THPog4E66nqVDWvgbO6/sGO57tfJLgFcu6iW055cB17TpFYBbJ1n3OLpAN6/V/qlxy66m6/Uac8cUx5I0ohxqlDRsmwEXJnlbG7Z7cms/fwb7eAuwCXAhcDnd8ORfT7PNeVV1EHAC8ATghXTne11P1/P2KLrw9yZgHeArbbsPJdk9yTuTbDyufVdgPeApwAFVdfskxzwOKOA/gEuB01v7ScBDgRcAGwD/BLy0qm4CfgZs1Xr43j/ImyFp2WXwkjRsV9N98+9VdOdvPQKYV1XfmME+7qE77+qTwCOBA6vqsgG3nUcXhvavquvphix/TXe+1v50PVeXVNWpwC50PW0fBXYC7qqqo+nC2cbAx1r7qZMdqNV0Ol3P1XG18J5s+9Cd2/XPwEfoguAZbdm/0b0/b6Q7H07SCPNejZKWSUlWofu24ni3V9Uts1GPJA3CHi9Jy6qdgAUTHofOakWSNA17vCQtk5KsTXf+2HhXVdVFs1GPJA3C4CVJktQThxolSZJ6YvCSJEnqicFLkiSpJwYvSZKknvx/BwKBTHnYcmoAAAAASUVORK5CYII=\n",
      "text/plain": [
       "<Figure size 720x432 with 1 Axes>"
      ]
     },
     "metadata": {
      "needs_background": "light"
     },
     "output_type": "display_data"
    }
   ],
   "source": [
    "#We'll plot the proportions on a bar chart to veiw the relationship better\n",
    "group_plot(k, 'SMS_received', 'No-show', (10,6))"
   ]
  },
  {
   "cell_type": "markdown",
   "metadata": {},
   "source": [
    "From this plot, those who received SMS have almost a 10% higher no show rate. So there is a bit of correlation between getting an sms and showing up for the appointment."
   ]
  },
  {
   "cell_type": "code",
   "execution_count": 36,
   "metadata": {},
   "outputs": [
    {
     "data": {
      "image/png": "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\n",
      "text/plain": [
       "<Figure size 1152x720 with 1 Axes>"
      ]
     },
     "metadata": {
      "needs_background": "light"
     },
     "output_type": "display_data"
    }
   ],
   "source": [
    "#Doing the same for Neighbourhood\n",
    "plt.figure(figsize=(16,10))\n",
    "data.groupby('Neighbourhood')['No-show'].mean().mul(100).plot(kind='bar')\n",
    "plt.title('Percentage of No-show by Neighbourhood'.title(), fontsize=10, weight=\"bold\")\n",
    "plt.xlabel('Neighbourhood', fontsize=10, weight=\"bold\")\n",
    "plt.ylabel('Percentage of No-show'.title(), fontsize=10, weight=\"bold\");"
   ]
  },
  {
   "cell_type": "markdown",
   "metadata": {},
   "source": [
    "The chart above shows that there is indeed a correlation between the appointment being in the Ilhas Oceanicas de Trindade Neighbourhood and if a patient will show up or not. However, our value_counts shows us that there are only 2 unique appointments in that neighbourhood so we can't really rely on that correlation"
   ]
  },
  {
   "cell_type": "markdown",
   "metadata": {},
   "source": [
    "We can do the same for the rest of the numerical features but a more tidy way is to use the correlation method availabe in the pandas library for a dataframe."
   ]
  },
  {
   "cell_type": "code",
   "execution_count": 37,
   "metadata": {
    "scrolled": true
   },
   "outputs": [
    {
     "data": {
      "text/plain": [
       "No-show         1.000000\n",
       "SMS_received    0.126428\n",
       "Scholarship     0.029134\n",
       "Alcoholism     -0.000197\n",
       "Handicap       -0.006077\n",
       "Diabetes       -0.015181\n",
       "Hypertension   -0.035704\n",
       "Age            -0.060327\n",
       "Name: No-show, dtype: float64"
      ]
     },
     "execution_count": 37,
     "metadata": {},
     "output_type": "execute_result"
    }
   ],
   "source": [
    "#looking at the independent variables that are correlated to our target variable\n",
    "data.corr()['No-show'].sort_values(ascending=False)"
   ]
  },
  {
   "cell_type": "markdown",
   "metadata": {},
   "source": [
    "This univariate correlation shows how each of our numerical columns are correlated to our dependent variable. As expected the most correlated feature is the sms_received, as we've already seen in our analysis. For the string colums i.e(gender, neighbourhood), the correlation method doesn't work on them because they are of string data type."
   ]
  },
  {
   "cell_type": "markdown",
   "metadata": {},
   "source": [
    "We could create an duration feature from ScheduledDay and AppointmentDay, but the AppointmentDay data does not have hour information. So all of the hour values are calculated from midnight - which is not a valid time for appointments."
   ]
  },
  {
   "cell_type": "markdown",
   "metadata": {},
   "source": [
    "### Research Question 2  (Are there any correlations between the other features?)"
   ]
  },
  {
   "cell_type": "markdown",
   "metadata": {},
   "source": [
    "Now we're going to check how each columns are correlated to one another. Using a heat map"
   ]
  },
  {
   "cell_type": "code",
   "execution_count": 38,
   "metadata": {
    "scrolled": false
   },
   "outputs": [
    {
     "data": {
      "image/png": "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\n",
      "text/plain": [
       "<Figure size 864x432 with 2 Axes>"
      ]
     },
     "metadata": {
      "needs_background": "light"
     },
     "output_type": "display_data"
    }
   ],
   "source": [
    "#visualizing the variables correlation with one another\n",
    "plt.figure(figsize = (12, 6))\n",
    "mask = np.triu(data.corr())\n",
    "sns.heatmap(data.corr().abs(), annot = True, mask = mask, cmap ='coolwarm');"
   ]
  },
  {
   "cell_type": "markdown",
   "metadata": {},
   "source": [
    "From the heatmap we see that the following columns are correlated with one anothe:\n",
    "  - Age and Hypertension\n",
    "  - Age and Diabetes\n",
    "  - Hypertension and Diabetes\n",
    "  - Duration(our engineered feature) and SMS_received"
   ]
  },
  {
   "cell_type": "markdown",
   "metadata": {},
   "source": [
    "<a id='conclusions'></a>\n",
    "## Conclusions\n",
   ]
  },
  {
   "cell_type": "markdown",
   "metadata": {
    "collapsed": true
   },
   "source": [
    "From my analysis I found out that the main column which can help in predicting if a patient will miss his/her appointment or not is the SMS_received column.This doesn't mean that they cause one another, but simply that they have a correlation.\n",
    "I also discovered correlations between other independent variables e.g correlation between Age and Hypertension, Age and Diabetes, Hypertension and Diabetes.\n",
    "\n",
    "Some limitations of my exploration include: skewed data, wrong value in a column, incorrect column names. Most of them were fixed.\n",
    "\n",
    "    "
   ]
  },
  {
   "cell_type": "code",
   "execution_count": null,
   "metadata": {},
   "outputs": [],
   "source": []
  }
 ],
 "metadata": {
  "kernelspec": {
   "display_name": "Python 3 (ipykernel)",
   "language": "python",
   "name": "python3"
  },
  "language_info": {
   "codemirror_mode": {
    "name": "ipython",
    "version": 3
   },
   "file_extension": ".py",
   "mimetype": "text/x-python",
   "name": "python",
   "nbconvert_exporter": "python",
   "pygments_lexer": "ipython3",
   "version": "3.9.7"
  }
 },
 "nbformat": 4,
 "nbformat_minor": 2
}
